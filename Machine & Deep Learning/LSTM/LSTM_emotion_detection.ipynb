{
  "cells": [
    {
      "cell_type": "markdown",
      "id": "207aa7cc-75ff-4cb7-a9a9-ba9ff699d692",
      "metadata": {
        "id": "207aa7cc-75ff-4cb7-a9a9-ba9ff699d692"
      },
      "source": [
        "# LSTM: detecting emotion in text"
      ]
    },
    {
      "cell_type": "markdown",
      "id": "427ee986-26f6-41e0-8658-3a6d904f18df",
      "metadata": {
        "id": "427ee986-26f6-41e0-8658-3a6d904f18df"
      },
      "source": [
        "Author: Hugo Wattelar\n",
        "\n",
        "Natural Language Processing (NLP) is now a major field of AI research: machine translation, text understanding, chatbots, etc. Text, speech or video are data sequences that have a dependency (temporal or contextual) that cannot be captured correctly by feed-forward networks. Text, speech or video are data sequences that have a dependency (temporal or contextual) that cannot be captured correctly by feed-forward networks. Recurrent networks (RNN) are better suited to this type of data. In particular, LSTM (Long Short Term Memory) networks are specialised in analysing data sequences thanks to their ability to 'remember'.\n",
        "\n",
        "In this tutorial, we are going to use an LSTM-based neural network to detect emotions in a text. This apparently easy task is, however, highly open to interpretation, and the emotion conveyed in a text can be anything and everything depending on the context, intention or other subjective components.\n",
        "\n",
        "To do this, we're going to use the PyTorch library, which is particularly useful for implementing neural networks in Python. This library is not installed by default on Jupyter, so you need to download it using the following command (this can take several minutes, so please be patient). Installation is complete when the star [*] to the left of the cell disappears. As long as the star appears, the installation is not complete."
      ]
    },
    {
      "cell_type": "code",
      "execution_count": 5,
      "id": "3dd498a0-696f-4512-992e-52fa91fc6725",
      "metadata": {
        "collapsed": true,
        "colab": {
          "base_uri": "https://localhost:8080/"
        },
        "id": "3dd498a0-696f-4512-992e-52fa91fc6725",
        "outputId": "482d4b13-01f1-488a-a4f7-63ef89dbfeba"
      },
      "outputs": [
        {
          "output_type": "stream",
          "name": "stdout",
          "text": [
            "Requirement already satisfied: torch in /usr/local/lib/python3.11/dist-packages (2.6.0+cu124)\n",
            "Requirement already satisfied: filelock in /usr/local/lib/python3.11/dist-packages (from torch) (3.18.0)\n",
            "Requirement already satisfied: typing-extensions>=4.10.0 in /usr/local/lib/python3.11/dist-packages (from torch) (4.14.1)\n",
            "Requirement already satisfied: networkx in /usr/local/lib/python3.11/dist-packages (from torch) (3.5)\n",
            "Requirement already satisfied: jinja2 in /usr/local/lib/python3.11/dist-packages (from torch) (3.1.6)\n",
            "Requirement already satisfied: fsspec in /usr/local/lib/python3.11/dist-packages (from torch) (2025.3.2)\n",
            "Requirement already satisfied: nvidia-cuda-nvrtc-cu12==12.4.127 in /usr/local/lib/python3.11/dist-packages (from torch) (12.4.127)\n",
            "Requirement already satisfied: nvidia-cuda-runtime-cu12==12.4.127 in /usr/local/lib/python3.11/dist-packages (from torch) (12.4.127)\n",
            "Requirement already satisfied: nvidia-cuda-cupti-cu12==12.4.127 in /usr/local/lib/python3.11/dist-packages (from torch) (12.4.127)\n",
            "Requirement already satisfied: nvidia-cudnn-cu12==9.1.0.70 in /usr/local/lib/python3.11/dist-packages (from torch) (9.1.0.70)\n",
            "Requirement already satisfied: nvidia-cublas-cu12==12.4.5.8 in /usr/local/lib/python3.11/dist-packages (from torch) (12.4.5.8)\n",
            "Requirement already satisfied: nvidia-cufft-cu12==11.2.1.3 in /usr/local/lib/python3.11/dist-packages (from torch) (11.2.1.3)\n",
            "Requirement already satisfied: nvidia-curand-cu12==10.3.5.147 in /usr/local/lib/python3.11/dist-packages (from torch) (10.3.5.147)\n",
            "Requirement already satisfied: nvidia-cusolver-cu12==11.6.1.9 in /usr/local/lib/python3.11/dist-packages (from torch) (11.6.1.9)\n",
            "Requirement already satisfied: nvidia-cusparse-cu12==12.3.1.170 in /usr/local/lib/python3.11/dist-packages (from torch) (12.3.1.170)\n",
            "Requirement already satisfied: nvidia-cusparselt-cu12==0.6.2 in /usr/local/lib/python3.11/dist-packages (from torch) (0.6.2)\n",
            "Requirement already satisfied: nvidia-nccl-cu12==2.21.5 in /usr/local/lib/python3.11/dist-packages (from torch) (2.21.5)\n",
            "Requirement already satisfied: nvidia-nvtx-cu12==12.4.127 in /usr/local/lib/python3.11/dist-packages (from torch) (12.4.127)\n",
            "Requirement already satisfied: nvidia-nvjitlink-cu12==12.4.127 in /usr/local/lib/python3.11/dist-packages (from torch) (12.4.127)\n",
            "Requirement already satisfied: triton==3.2.0 in /usr/local/lib/python3.11/dist-packages (from torch) (3.2.0)\n",
            "Requirement already satisfied: sympy==1.13.1 in /usr/local/lib/python3.11/dist-packages (from torch) (1.13.1)\n",
            "Requirement already satisfied: mpmath<1.4,>=1.1.0 in /usr/local/lib/python3.11/dist-packages (from sympy==1.13.1->torch) (1.3.0)\n",
            "Requirement already satisfied: MarkupSafe>=2.0 in /usr/local/lib/python3.11/dist-packages (from jinja2->torch) (3.0.2)\n"
          ]
        }
      ],
      "source": [
        "pip install torch"
      ]
    },
    {
      "cell_type": "markdown",
      "id": "ad1a46bb-bb5f-40ea-99b2-2c9047b9e897",
      "metadata": {
        "id": "ad1a46bb-bb5f-40ea-99b2-2c9047b9e897"
      },
      "source": [
        "First, let's install all the libraries we'll need for this tutorial. Run the cell below and check that everything has been imported correctly."
      ]
    },
    {
      "cell_type": "code",
      "execution_count": 6,
      "id": "9c2664e7-5ccd-4f9a-ab62-222882b9d5cf",
      "metadata": {
        "id": "9c2664e7-5ccd-4f9a-ab62-222882b9d5cf"
      },
      "outputs": [],
      "source": [
        "import pandas as pd\n",
        "import numpy as np\n",
        "import re\n",
        "import torch\n",
        "import matplotlib.pyplot as plt\n",
        "from sklearn.preprocessing import LabelEncoder\n",
        "from torch.utils.data import Dataset, DataLoader\n",
        "import torch.nn as nn\n",
        "from torch.optim import Adam"
      ]
    },
    {
      "cell_type": "markdown",
      "id": "eb981d60-1698-46ed-a551-e22299834b85",
      "metadata": {
        "id": "eb981d60-1698-46ed-a551-e22299834b85"
      },
      "source": [
        "## 1. data loading and exploration"
      ]
    },
    {
      "cell_type": "markdown",
      "id": "ffc82417-a57b-45f9-9ffe-d56d4f1a7ebc",
      "metadata": {
        "id": "ffc82417-a57b-45f9-9ffe-d56d4f1a7ebc"
      },
      "source": [
        "For this study, we will use the [Emotion Dataset](https://github.com/dair-ai/emotion_dataset?tab=readme-ov-file) described in _Elvis Saravia, Hsien-Chi Toby Liu, Yen-Hao Huang, Junlin Wu, and Yi-Shin Chen. 2018. CARER: Contextualized Affect Representations for Emotion Recognition. In Proceedings of the 2018 Conference on Empirical Methods in Natural Language Processing, pages 3687-3697, Brussels, Belgium. Association for Computational Linguistics._ It consists of several thousand English tweets annotated with 6 different emotions:\n",
        "* 0 : _sadness_\n",
        "* 1: _joy_\n",
        "* 2: _love_\n",
        "* 3: _angry_\n",
        "* 4: _fear_\n",
        "* 5: _surprise_\n",
        "\n",
        "The base is already separated into a training base, a validation base and a test base. We load the 3 sets into 3 different variables."
      ]
    },
    {
      "cell_type": "code",
      "execution_count": 7,
      "id": "b096728b-59a8-4d3a-8c7f-15aa43b856b2",
      "metadata": {
        "id": "b096728b-59a8-4d3a-8c7f-15aa43b856b2"
      },
      "outputs": [],
      "source": [
        "train_set = pd.read_csv(\"Emotion_Dataset/training.csv\")\n",
        "val_set = pd.read_csv(\"Emotion_Dataset/validation.csv\")\n",
        "test_set = pd.read_csv(\"Emotion_Dataset/test.csv\")\n",
        "emotions = {0: \"sadness\", 1: \"joy\", 2: \"love\", 3: \"anger\", 4: \"fear\", 5: \"surprise\"}"
      ]
    },
    {
      "cell_type": "code",
      "execution_count": 8,
      "id": "ceb8235c-15d4-43bc-8069-da2ec84b4a8d",
      "metadata": {
        "colab": {
          "base_uri": "https://localhost:8080/"
        },
        "id": "ceb8235c-15d4-43bc-8069-da2ec84b4a8d",
        "outputId": "dc5bfb59-8483-4ee2-e0db-af7f6523a030"
      },
      "outputs": [
        {
          "output_type": "stream",
          "name": "stdout",
          "text": [
            "train_set : (16000, 2)\n",
            "val_set : (2000, 2)\n",
            "test_set : (2000, 2)\n"
          ]
        }
      ],
      "source": [
        "print(\"train_set :\", train_set.shape)\n",
        "print(\"val_set :\", val_set.shape)\n",
        "print(\"test_set :\", test_set.shape)"
      ]
    },
    {
      "cell_type": "markdown",
      "id": "12013801-3f29-43c2-b365-904f21b8fdf9",
      "metadata": {
        "id": "12013801-3f29-43c2-b365-904f21b8fdf9"
      },
      "source": [
        "A few examples of the database are displayed."
      ]
    },
    {
      "cell_type": "code",
      "execution_count": 9,
      "id": "e3b24d62-645d-42a6-ab0a-952ff1194453",
      "metadata": {
        "colab": {
          "base_uri": "https://localhost:8080/"
        },
        "id": "e3b24d62-645d-42a6-ab0a-952ff1194453",
        "outputId": "682532d1-9874-4e54-f0b9-ef42d14047d5"
      },
      "outputs": [
        {
          "output_type": "stream",
          "name": "stdout",
          "text": [
            "                                                text  label\n",
            "0                            i didnt feel humiliated      0\n",
            "1  i can go from feeling so hopeless to so damned...      0\n",
            "2   im grabbing a minute to post i feel greedy wrong      3\n",
            "3  i am ever feeling nostalgic about the fireplac...      2\n",
            "4                               i am feeling grouchy      3\n",
            "5  ive been feeling a little burdened lately wasn...      0\n",
            "6  ive been taking or milligrams or times recomme...      5\n",
            "7  i feel as confused about life as a teenager or...      4\n",
            "8  i have been with petronas for years i feel tha...      1\n",
            "9                                i feel romantic too      2\n"
          ]
        }
      ],
      "source": [
        "print(train_set.head(10))"
      ]
    },
    {
      "cell_type": "markdown",
      "id": "bbdcb590-7b0e-4d97-b145-86484efca99a",
      "metadata": {
        "id": "bbdcb590-7b0e-4d97-b145-86484efca99a"
      },
      "source": [
        "We now display a few examples of the database for each emotion."
      ]
    },
    {
      "cell_type": "code",
      "execution_count": 10,
      "id": "29d5e374-b345-4125-9772-232204fa7732",
      "metadata": {
        "colab": {
          "base_uri": "https://localhost:8080/"
        },
        "id": "29d5e374-b345-4125-9772-232204fa7732",
        "outputId": "36ac325e-82a7-44c7-e92d-0e7f34c4b636"
      },
      "outputs": [
        {
          "output_type": "stream",
          "name": "stdout",
          "text": [
            "Emotion : sadness\n",
            "                                                 text  label\n",
            "0                             i didnt feel humiliated      0\n",
            "1   i can go from feeling so hopeless to so damned...      0\n",
            "5   ive been feeling a little burdened lately wasn...      0\n",
            "10  i feel like i have to make the suffering i m s...      0\n",
            "13                 i feel low energy i m just thirsty      0\n",
            "16               i didnt really feel that embarrassed      0\n",
            "17            i feel pretty pathetic most of the time      0\n",
            "18  i started feeling sentimental about dolls i ha...      0\n",
            "25  i still love my so and wish the best for him i...      0\n",
            "26  i feel so inhibited in someone elses kitchen l...      0\n",
            "\n",
            "\n",
            "Emotion : joy\n",
            "                                                 text  label\n",
            "8   i have been with petronas for years i feel tha...      1\n",
            "11  i do feel that running is a divine experience ...      1\n",
            "14  i have immense sympathy with the general point...      1\n",
            "15    i do not feel reassured anxiety is on each side      1\n",
            "22    i have the feeling she was amused and delighted      1\n",
            "23  i was able to help chai lifeline with your sup...      1\n",
            "29  i feel more superior dead chicken or grieving ...      1\n",
            "30  i get giddy over feeling elegant in a perfectl...      1\n",
            "34  i can t imagine a real life scenario where i w...      1\n",
            "35  i am not sure what would make me feel content ...      1\n",
            "\n",
            "\n",
            "Emotion : love\n",
            "                                                  text  label\n",
            "3    i am ever feeling nostalgic about the fireplac...      2\n",
            "9                                  i feel romantic too      2\n",
            "47   i can t let go of that sad feeling that i want...      2\n",
            "61   i ate i could feel a gentle tingle throughout ...      2\n",
            "68   i suppose my own truth needs to be shared i ha...      2\n",
            "90   i was ready to meet mom in the airport and fee...      2\n",
            "94   i talk to dogs as i feel they cannot understan...      2\n",
            "100  i wont let me child cry it out because i feel ...      2\n",
            "112  i feel like some of you have pains and you can...      2\n",
            "124  i am very excited to finally meet that compani...      2\n",
            "\n",
            "\n",
            "Emotion : anger\n",
            "                                                 text  label\n",
            "2    im grabbing a minute to post i feel greedy wrong      3\n",
            "4                                i am feeling grouchy      3\n",
            "12  i think it s the easiest time of year to feel ...      3\n",
            "20  i feel irritated and rejected without anyone d...      3\n",
            "24  i already feel like i fucked up though because...      3\n",
            "28  i feel kinda appalled that she feels like she ...      3\n",
            "33  i climbed the hill feeling frustrated that id ...      3\n",
            "38  i feel a bit rude writing to an elderly gentle...      3\n",
            "49       i stopped feeling cold and began feeling hot      3\n",
            "52                         i feel selfish and spoiled      3\n",
            "\n",
            "\n",
            "Emotion : fear\n",
            "                                                  text  label\n",
            "7    i feel as confused about life as a teenager or...      4\n",
            "19   i now feel compromised and skeptical of the va...      4\n",
            "21   i am feeling completely overwhelmed i have two...      4\n",
            "31   i remember feeling acutely distressed for a fe...      4\n",
            "53   i was stymied a little bit as i wrote feeling ...      4\n",
            "62   i feel like we are pressured into being young ...      4\n",
            "63   i began having them several times a week feeli...      4\n",
            "89   i will be able to lay on my bed in the dark an...      4\n",
            "120  i had begun to feel apprehensive when thick bl...      4\n",
            "121  i had stated to her the reason i feel so fearf...      4\n",
            "\n",
            "\n",
            "Emotion : surprise\n",
            "                                                  text  label\n",
            "6    ive been taking or milligrams or times recomme...      5\n",
            "32   i have seen heard and read over the past coupl...      5\n",
            "57   i keep feeling pleasantly surprised at his sup...      5\n",
            "64   i am now nearly finished the week detox and i ...      5\n",
            "129  i too feel as if i am a stranger in a strange ...      5\n",
            "145  i started feeling funny and then friday i woke...      5\n",
            "156  im certainly not going to sit and tell you wha...      5\n",
            "157  im sorry that there wasnt more humor in this p...      5\n",
            "168  i want to hold this feeling of shocked awe and...      5\n",
            "181  i will enclose her verses on her could not wei...      5\n",
            "\n",
            "\n"
          ]
        }
      ],
      "source": [
        "for i in range(0,6):\n",
        "    print(\"Emotion :\", emotions[i])\n",
        "    print(train_set.loc[train_set.label==i].head(10))\n",
        "    print(\"\\n\")"
      ]
    },
    {
      "cell_type": "markdown",
      "id": "ac855d89-b178-4804-9140-77de2b213688",
      "metadata": {
        "id": "ac855d89-b178-4804-9140-77de2b213688"
      },
      "source": [
        "The distribution of the different emotions in the three databases is shown below.\n",
        "\n",
        "<span style=\"color: red\"> Question:</span> what do you think about that?"
      ]
    },
    {
      "cell_type": "markdown",
      "id": "335995ab-a411-41f4-9618-5a5aca17caf0",
      "metadata": {
        "id": "335995ab-a411-41f4-9618-5a5aca17caf0"
      },
      "source": [
        "<span style=\"color: blue\"> Answer:</span> the different emotions are correctly distributed between the different sets. This is important to ensure that all emotions are represented in all three bases. However, the emotions \"joy\" and \"sadness\" are much more present than the others, which could bias the final model in favour of these emotions."
      ]
    },
    {
      "cell_type": "code",
      "execution_count": 11,
      "id": "60b8d3a8-f1c8-406f-b37c-54092d7b6c51",
      "metadata": {
        "colab": {
          "base_uri": "https://localhost:8080/",
          "height": 485
        },
        "id": "60b8d3a8-f1c8-406f-b37c-54092d7b6c51",
        "outputId": "10f54152-07d5-48d4-ea1f-1effadcde1cc"
      },
      "outputs": [
        {
          "output_type": "execute_result",
          "data": {
            "text/plain": [
              "Text(0.5, 1.0, 'Test set')"
            ]
          },
          "metadata": {},
          "execution_count": 11
        },
        {
          "output_type": "display_data",
          "data": {
            "text/plain": [
              "<Figure size 1200x500 with 3 Axes>"
            ],
            "image/png": "[encoded data removed]"
          },
          "metadata": {}
        }
      ],
      "source": [
        "fig, ax = plt.subplots(nrows=1, ncols=3, figsize=(12,5))\n",
        "ax[0].bar(emotions.values(), train_set.groupby(\"label\").size())\n",
        "ax[0].set_title(\"Training set\")\n",
        "ax[1].bar(emotions.values(), val_set.groupby(\"label\").size())\n",
        "ax[1].set_title(\"Validation set\")\n",
        "ax[2].bar(emotions.values(), test_set.groupby(\"label\").size())\n",
        "ax[2].set_title(\"Test set\")"
      ]
    },
    {
      "cell_type": "markdown",
      "id": "788fe2c1-c6a6-485d-9c87-1cfdec8c3d42",
      "metadata": {
        "id": "788fe2c1-c6a6-485d-9c87-1cfdec8c3d42"
      },
      "source": [
        "## 2. Data processing\n",
        "\n",
        "### 2.1 Tokenisation\n",
        "\n",
        "The textual data must first be processed in order to format it for the AI model. Special characters and punctuation are removed from the data, and sentences are separated into words, called _tokens_. This process is called _tokenisation_."
      ]
    },
    {
      "cell_type": "code",
      "execution_count": 12,
      "id": "cf0a4076-4e3d-4eaa-8239-1394baa234ca",
      "metadata": {
        "id": "cf0a4076-4e3d-4eaa-8239-1394baa234ca"
      },
      "outputs": [],
      "source": [
        "def tokenize_text(text):\n",
        "    \"\"\"Tokenization of a sentence\"\"\"\n",
        "    text = text.lower() # Everything in lower case\n",
        "    text = re.sub(r'[^a-zA-Z0-9\\s]', '', text)  # Punctuation and special characters are removed\n",
        "    tokens = text.split() # Sentences are divided into word lists\n",
        "    return tokens\n",
        "\n",
        "def tokenize_dataset(dataset):\n",
        "    \"\"\"Tokenization of a whole dataset\"\"\"\n",
        "    processed_set = []\n",
        "    for index, sample in dataset.iterrows():\n",
        "        text = sample[\"text\"]\n",
        "        tokens = tokenize_text(text) # Tokenisation of each sentence\n",
        "        processed_set.append(tokens)\n",
        "    labels = dataset.label # The labels associated with each sentence are stored in memory\n",
        "    return processed_set, labels"
      ]
    },
    {
      "cell_type": "code",
      "execution_count": 13,
      "id": "2e8d7672-3ff3-4c13-a823-be0318550b1b",
      "metadata": {
        "id": "2e8d7672-3ff3-4c13-a823-be0318550b1b"
      },
      "outputs": [],
      "source": [
        "sentences_train, y_train = tokenize_dataset(train_set)\n",
        "sentences_val, y_val = tokenize_dataset(val_set)\n",
        "sentences_test, y_test = tokenize_dataset(test_set)"
      ]
    },
    {
      "cell_type": "markdown",
      "id": "f43e80a0-fbb3-4090-8792-74422fd42270",
      "metadata": {
        "id": "f43e80a0-fbb3-4090-8792-74422fd42270"
      },
      "source": [
        "### 2.2 Encoding"
      ]
    },
    {
      "cell_type": "markdown",
      "id": "4d8f4e78-b8e1-4064-ad55-337cc47f272d",
      "metadata": {
        "id": "4d8f4e78-b8e1-4064-ad55-337cc47f272d"
      },
      "source": [
        "Next, we encode our tokens to form a dictionary. This involves associating an ID with each word, to convert each word into an integer specific to each word.\n",
        "The more words are encoded, the larger the vocabulary of the model. A word that does not exist in the dictionary cannot be processed by the model.\n",
        "Here, we encode the words in the 3 databases to ensure that each word used has an associated ID."
      ]
    },
    {
      "cell_type": "code",
      "execution_count": 14,
      "id": "7525b809-a407-41b2-9342-500b6d8b8f65",
      "metadata": {
        "id": "7525b809-a407-41b2-9342-500b6d8b8f65"
      },
      "outputs": [],
      "source": [
        "encoder = LabelEncoder() # Installing the encoder\n",
        "\n",
        "sentences = []\n",
        "for sentence in sentences_train + sentences_val + sentences_test: # Concatenation of words from the 3 databases\n",
        "    sentences += sentence\n",
        "\n",
        "tokens_ids = encoder.fit_transform(sentences) # Learning the encoder with all the words"
      ]
    },
    {
      "cell_type": "markdown",
      "id": "16118559-411d-4194-b0c3-1363788f4910",
      "metadata": {
        "id": "16118559-411d-4194-b0c3-1363788f4910"
      },
      "source": [
        "View the token dictionary and the number of occurrences of each word:"
      ]
    },
    {
      "cell_type": "code",
      "execution_count": 15,
      "id": "e584ea8c-20f5-4d5e-8341-be39271bafdf",
      "metadata": {
        "colab": {
          "base_uri": "https://localhost:8080/"
        },
        "id": "e584ea8c-20f5-4d5e-8341-be39271bafdf",
        "outputId": "e436bed6-cb46-494f-b64a-9b85d357b1d8"
      },
      "outputs": [
        {
          "output_type": "stream",
          "name": "stdout",
          "text": [
            "          word  token_id  nb_occurences\n",
            "0            i      7306          32242\n",
            "1        didnt      4089            334\n",
            "2         feel      5539          13938\n",
            "3   humiliated      7240             67\n",
            "5          can      2128           1200\n",
            "6           go      6377            493\n",
            "7         from      6045            876\n",
            "8      feeling      5543           6431\n",
            "9           so     13866           3127\n",
            "10    hopeless      7131             76\n"
          ]
        }
      ],
      "source": [
        "dictionnary = pd.DataFrame(data={\"word\": sentences, \"token_id\": tokens_ids})\n",
        "dictionnary.drop_duplicates(inplace=True)\n",
        "dictionnary[\"nb_occurences\"] = [sentences.count(i) for i in dictionnary[\"word\"]]\n",
        "print(dictionnary.head(10))"
      ]
    },
    {
      "cell_type": "markdown",
      "id": "719371ca-54f9-4a9c-9b9e-35f13e537304",
      "metadata": {
        "id": "719371ca-54f9-4a9c-9b9e-35f13e537304"
      },
      "source": [
        "<span style=\"color: red\"> TODO:</span> display words matching the first token_ids. How are the token_ids chosen?"
      ]
    },
    {
      "cell_type": "code",
      "execution_count": 16,
      "id": "0c6206bc-8d46-451a-8c5a-039f82bde604",
      "metadata": {
        "colab": {
          "base_uri": "https://localhost:8080/"
        },
        "id": "0c6206bc-8d46-451a-8c5a-039f82bde604",
        "outputId": "de3b9fff-33da-433c-abf1-a562fbc91559"
      },
      "outputs": [
        {
          "output_type": "stream",
          "name": "stdout",
          "text": [
            "             word  token_id  nb_occurences\n",
            "27              a         0           7748\n",
            "125288         aa         1              3\n",
            "175746  aaaaaaand         2              1\n",
            "93666     aaaaand         3              1\n",
            "350153      aaaah         4              1\n",
            "271339     aaaand         5              1\n",
            "8161          aac         6              1\n",
            "11710       aahhh         7              1\n",
            "133082      aaron         8              1\n",
            "57414          ab         9              1\n"
          ]
        }
      ],
      "source": [
        "sort_id_dictionnary = dictionnary.sort_values(by=\"token_id\")\n",
        "print(sort_id_dictionnary.head(10))"
      ]
    },
    {
      "cell_type": "markdown",
      "id": "c9eb80eb-3c15-4a65-834d-4817b51b0c4f",
      "metadata": {
        "id": "c9eb80eb-3c15-4a65-834d-4817b51b0c4f"
      },
      "source": [
        "<span style=\"color: red\"> TODO:</span> display the most frequent words in the database."
      ]
    },
    {
      "cell_type": "code",
      "execution_count": 17,
      "id": "e254df1c-b588-4451-a595-105eb81d02bd",
      "metadata": {
        "colab": {
          "base_uri": "https://localhost:8080/"
        },
        "id": "e254df1c-b588-4451-a595-105eb81d02bd",
        "outputId": "f365d165-4a13-45ac-f214-41f535a993e7"
      },
      "outputs": [
        {
          "output_type": "stream",
          "name": "stdout",
          "text": [
            "        word  token_id  nb_occurences\n",
            "0          i      7306          32242\n",
            "2       feel      5539          13938\n",
            "22       and       554          11996\n",
            "11        to     15334          11208\n",
            "41       the     15123          10462\n",
            "27         a         0           7748\n",
            "8    feeling      5543           6431\n",
            "46      that     15116           6314\n",
            "164       of     10366           6182\n",
            "321       my      9882           5326\n"
          ]
        }
      ],
      "source": [
        "sort_occ_dictionnary = dictionnary.sort_values(by=\"nb_occurences\", ascending=False)\n",
        "print(sort_occ_dictionnary.head(10))"
      ]
    },
    {
      "cell_type": "markdown",
      "id": "fc55d982-9cfa-4363-ac25-4be8e988e966",
      "metadata": {
        "id": "fc55d982-9cfa-4363-ac25-4be8e988e966"
      },
      "source": [
        "<span style=\"color: red\"> TODO:</span> how many different words are there in the database?"
      ]
    },
    {
      "cell_type": "code",
      "execution_count": 18,
      "id": "58ecce39-689d-4fda-a063-f5f4b9f8a65b",
      "metadata": {
        "colab": {
          "base_uri": "https://localhost:8080/"
        },
        "id": "58ecce39-689d-4fda-a063-f5f4b9f8a65b",
        "outputId": "16f44c70-4d6a-4d7d-89f1-46ea4966c130"
      },
      "outputs": [
        {
          "output_type": "stream",
          "name": "stdout",
          "text": [
            "Number of different words= 17096\n"
          ]
        }
      ],
      "source": [
        "dictionnary.shape\n",
        "print(\"Number of different words=\", dictionnary.shape[0])"
      ]
    },
    {
      "cell_type": "markdown",
      "id": "74e47138-7bf2-49cd-ae03-aed424f4f2af",
      "metadata": {
        "id": "74e47138-7bf2-49cd-ae03-aed424f4f2af"
      },
      "source": [
        "Finally, the 3 databases are encoded separately."
      ]
    },
    {
      "cell_type": "code",
      "execution_count": 19,
      "id": "86e5f1e7-5d95-479b-bcd6-eabcd89f90b2",
      "metadata": {
        "id": "86e5f1e7-5d95-479b-bcd6-eabcd89f90b2"
      },
      "outputs": [],
      "source": [
        "def encode_sentences(encoder, sentences):\n",
        "    \"\"\"Associates the corresponding ID to each word in sentences\"\"\"\n",
        "    encoded_sentences = []\n",
        "    for sentence in sentences:\n",
        "        encoded_sentence = encoder.transform(sentence)\n",
        "        encoded_sentences.append(encoded_sentence)\n",
        "    return encoded_sentences"
      ]
    },
    {
      "cell_type": "code",
      "execution_count": 20,
      "id": "901ad454-9f89-47e1-8d1f-600c2ef3ffad",
      "metadata": {
        "id": "901ad454-9f89-47e1-8d1f-600c2ef3ffad"
      },
      "outputs": [],
      "source": [
        "# Encoding of the 3 databases (this may take a little time)\n",
        "X_train = encode_sentences(encoder, sentences_train)\n",
        "X_val = encode_sentences(encoder, sentences_val)\n",
        "X_test = encode_sentences(encoder, sentences_test)"
      ]
    },
    {
      "cell_type": "markdown",
      "id": "dfd24bc7-6552-45b1-9a51-3b102557c36c",
      "metadata": {
        "id": "dfd24bc7-6552-45b1-9a51-3b102557c36c"
      },
      "source": [
        "### 2.3 Padding\n",
        "\n",
        "Ideally, all the entries in the model should have the same size (the same length). Here we will pad out all the sentences with zeros until they are all the size of the longest sentence in the corpus.\n",
        "\n",
        "<span style=\"color: red\"> TODO:</span> complete the code below in order to perform the padding step."
      ]
    },
    {
      "cell_type": "code",
      "execution_count": 21,
      "id": "5896aae9-8972-4f96-ae77-6a3749c74735",
      "metadata": {
        "id": "5896aae9-8972-4f96-ae77-6a3749c74735"
      },
      "outputs": [],
      "source": [
        "def make_zero_padding(data, output_size):\n",
        "    for i in range(len(data)):\n",
        "        for j in range(output_size-len(data[i])):\n",
        "            data[i] = np.append(data[i], 0)\n",
        "    return data\n",
        "\n",
        "length_longest_sentence = max(len(max(X_train, key=len)), len(max(X_val, key=len)), len(max(X_test, key=len)))\n",
        "X_train = make_zero_padding(X_train, length_longest_sentence)\n",
        "X_val = make_zero_padding(X_val, length_longest_sentence)\n",
        "X_test = make_zero_padding(X_test, length_longest_sentence)"
      ]
    },
    {
      "cell_type": "markdown",
      "id": "fefe2378-f7c0-4985-b47b-850cb3dbfd91",
      "metadata": {
        "id": "fefe2378-f7c0-4985-b47b-850cb3dbfd91"
      },
      "source": [
        "Now that all the sentences have the same length, we can convert the lists of sentences into np.array."
      ]
    },
    {
      "cell_type": "code",
      "execution_count": 22,
      "id": "52b9dfca-56ad-4b91-8721-a9f61d7adf7e",
      "metadata": {
        "colab": {
          "base_uri": "https://localhost:8080/"
        },
        "id": "52b9dfca-56ad-4b91-8721-a9f61d7adf7e",
        "outputId": "ca979ad4-fdc3-48af-c236-23959302c825"
      },
      "outputs": [
        {
          "output_type": "stream",
          "name": "stdout",
          "text": [
            "(16000, 66) (16000,)\n",
            "(2000, 66) (2000,)\n",
            "(2000, 66) (2000,)\n"
          ]
        }
      ],
      "source": [
        "X_train = np.array(X_train)\n",
        "y_train = np.array(y_train)\n",
        "X_val = np.array(X_val)\n",
        "y_val = np.array(y_val)\n",
        "X_test = np.array(X_test)\n",
        "y_test = np.array(y_test)\n",
        "\n",
        "print(X_train.shape,y_train.shape)\n",
        "print(X_val.shape,y_val.shape)\n",
        "print(X_test.shape,y_test.shape)"
      ]
    },
    {
      "cell_type": "markdown",
      "id": "898694da-5656-4366-a182-2d8e63f8d0aa",
      "metadata": {
        "id": "898694da-5656-4366-a182-2d8e63f8d0aa"
      },
      "source": [
        "### 2.4 One-hot encoding\n",
        "\n",
        "As we saw when we loaded the database, each sentence is assigned an ID from 0 to 5 depending on the emotion it conveys. In order to train our model, we need to transform each `i` ID into a vector of size 6, where the `i`th element is worth 1 and the other elements are worth 0. This is called one-hot encoding.\n",
        "\n",
        "<span style=\"color: red\"> TODO:</span> complete the code below to perform the one-hot encoding step."
      ]
    },
    {
      "cell_type": "code",
      "execution_count": 23,
      "id": "ccaaa20f-51c3-4345-bb2b-1b2bc5a4a2b3",
      "metadata": {
        "id": "ccaaa20f-51c3-4345-bb2b-1b2bc5a4a2b3"
      },
      "outputs": [],
      "source": [
        "y_train_one_hot = nn.functional.one_hot(torch.tensor(y_train))\n",
        "y_val_one_hot = nn.functional.one_hot(torch.tensor(y_val))\n",
        "y_test_one_hot = nn.functional.one_hot(torch.tensor(y_test))"
      ]
    },
    {
      "cell_type": "markdown",
      "id": "94945e75-1b84-4488-acde-0e670d38b96f",
      "metadata": {
        "id": "94945e75-1b84-4488-acde-0e670d38b96f"
      },
      "source": [
        "### 2.5 Formatting for PyTorch\n",
        "\n",
        "Using the tools in the PyTorch library requires special formatting of the data (in particular conversion to torch.Tensor), which is carried out by the cell below."
      ]
    },
    {
      "cell_type": "code",
      "execution_count": 24,
      "id": "3e56eff1-d27a-432c-b511-45a0bdfd583d",
      "metadata": {
        "id": "3e56eff1-d27a-432c-b511-45a0bdfd583d"
      },
      "outputs": [],
      "source": [
        "class TextDataset(Dataset):\n",
        "    def __init__(self, X,y):\n",
        "        self.data = X\n",
        "        self.labels = y\n",
        "\n",
        "\n",
        "    def __len__(self):\n",
        "        return len(self.data)\n",
        "\n",
        "\n",
        "    def __getitem__(self, index):\n",
        "        sequence, label = self.data[index], self.labels[index]\n",
        "        return torch.tensor(sequence, dtype=torch.long).clone().detach(), torch.tensor(label, dtype=torch.long).clone().detach()\n",
        "\n",
        "\n",
        "# Preparing DataLoaders\n",
        "train_dataset = TextDataset(X_train, y_train_one_hot)\n",
        "val_dataset = TextDataset(X_val, y_val_one_hot)\n",
        "test_dataset = TextDataset(X_test, y_test_one_hot)\n",
        "\n",
        "train_loader = DataLoader(train_dataset, batch_size=64, shuffle=True)\n",
        "val_loader = DataLoader(val_dataset, shuffle=True)\n",
        "test_loader = DataLoader(test_dataset, shuffle=False)"
      ]
    },
    {
      "cell_type": "markdown",
      "id": "7ace2a42-e365-4c4f-8f56-4bf91df63212",
      "metadata": {
        "id": "7ace2a42-e365-4c4f-8f56-4bf91df63212"
      },
      "source": [
        "Finally, we have three DataLoaders (train, val, test) containing the cut, encoded, padded and formatted sentences, as well as the corresponding encoded labels."
      ]
    },
    {
      "cell_type": "markdown",
      "id": "8d4b8a7d-d677-4fce-ab04-57e86370d31e",
      "metadata": {
        "id": "8d4b8a7d-d677-4fce-ab04-57e86370d31e"
      },
      "source": [
        "## 3. Creating the emotion detection model"
      ]
    },
    {
      "cell_type": "markdown",
      "id": "bd1a9246-bbb4-42b6-8a70-8799ffd2f1a2",
      "metadata": {
        "id": "bd1a9246-bbb4-42b6-8a70-8799ffd2f1a2"
      },
      "source": [
        "We will now use PyTorch to design our recurrent neural network for detecting emotion in text.\n",
        "The proposed architecture is adapted from the code in [Adem Hamici](https://www.kaggle.com/code/ademhph/emotion-recognition-using-lstm)."
      ]
    },
    {
      "cell_type": "code",
      "execution_count": 25,
      "id": "3dfb1604-0c78-458f-8541-89eda0f31fd2",
      "metadata": {
        "id": "3dfb1604-0c78-458f-8541-89eda0f31fd2"
      },
      "outputs": [],
      "source": [
        "class LSTMModel(nn.Module):\n",
        "    \"\"\"LSTM model for emotion classification\"\"\"\n",
        "    def __init__(self, vocab_size, embedding_size, hidden_size, output_size):\n",
        "        super(LSTMModel, self).__init__()\n",
        "        self.embedding = nn.Embedding(vocab_size, embedding_size)\n",
        "        self.bi_lstm = nn.LSTM(embedding_size, hidden_size, batch_first=True, bidirectional=True)\n",
        "        self.batchnorm = nn.BatchNorm1d(hidden_size*2)  #\n",
        "        self.fc = nn.Linear(hidden_size*2, output_size)\n",
        "        self.softmax = nn.Softmax(dim=1)\n",
        "\n",
        "    def forward(self, X):\n",
        "\n",
        "        X = self.embedding(X) # Words are projected into a space where words with the same meaning are close together.\n",
        "\n",
        "        _, (hn, _) = self.bi_lstm(X) # The sentence is read and analysed in both directions\n",
        "\n",
        "        X = torch.cat((hn[-2,:,:], hn[-1,:,:]), dim=1) # Concatenate the final hidden states of the bidirectional LSTM\n",
        "\n",
        "        X = self.batchnorm(X) # Batch standardisation to speed up training\n",
        "\n",
        "        X = self.fc(X) # Merging information\n",
        "\n",
        "        return self.softmax(X) # Application of the softmax function to transform output values into probabilities"
      ]
    },
    {
      "cell_type": "code",
      "execution_count": 26,
      "id": "2aeb6910-92cf-4f9f-a0bc-4d13938a1fcb",
      "metadata": {
        "colab": {
          "base_uri": "https://localhost:8080/"
        },
        "id": "2aeb6910-92cf-4f9f-a0bc-4d13938a1fcb",
        "outputId": "201901e9-d7a6-4580-caa4-a82381785376"
      },
      "outputs": [
        {
          "output_type": "stream",
          "name": "stdout",
          "text": [
            "LSTMModel(\n",
            "  (embedding): Embedding(17096, 100)\n",
            "  (bi_lstm): LSTM(100, 150, batch_first=True, bidirectional=True)\n",
            "  (batchnorm): BatchNorm1d(300, eps=1e-05, momentum=0.1, affine=True, track_running_stats=True)\n",
            "  (fc): Linear(in_features=300, out_features=6, bias=True)\n",
            "  (softmax): Softmax(dim=1)\n",
            ")\n"
          ]
        }
      ],
      "source": [
        "vocab_size = len(encoder.classes_)\n",
        "embedding_size = 100\n",
        "hidden_size = 150\n",
        "output_size = 6\n",
        "\n",
        "model = LSTMModel(vocab_size, embedding_size, hidden_size, output_size)\n",
        "print(model)"
      ]
    },
    {
      "cell_type": "markdown",
      "id": "64f909ed-0611-4aca-991a-97eaac603ced",
      "metadata": {
        "id": "64f909ed-0611-4aca-991a-97eaac603ced"
      },
      "source": [
        "## 4. Training, evaluation and testing of the model"
      ]
    },
    {
      "cell_type": "markdown",
      "id": "669efb10-fb2f-41b6-b6f9-f0ce95056847",
      "metadata": {
        "id": "669efb10-fb2f-41b6-b6f9-f0ce95056847"
      },
      "source": [
        "We will now create the training, evaluation and test functions for the model. The training function contains an Early Stopping system, which stops the model training when the loss on the validation set increases during `patience` consecutive periods.\n",
        "\n",
        "<span style=\"color: red\"> Question:</span> in your opinion, how useful is Early Stopping?"
      ]
    },
    {
      "cell_type": "markdown",
      "source": [
        "<span style=\"color: blue\"> Answer:</span> Early Stopping is useful because it is used to prevent overfitting by halting the training process when the model's performance on a validation dataset stops improving."
      ],
      "metadata": {
        "id": "GpZ8Mzh1JFl0"
      },
      "id": "GpZ8Mzh1JFl0"
    },
    {
      "cell_type": "code",
      "execution_count": 27,
      "id": "21c2ce46-84a2-4d57-8e21-354d7a357d42",
      "metadata": {
        "id": "21c2ce46-84a2-4d57-8e21-354d7a357d42"
      },
      "outputs": [],
      "source": [
        "# Training function with early stopping\n",
        "def train(model, train_loader, val_loader, criterion, optimizer, epochs=5, patience=3):\n",
        "    best_val_loss = float('inf')  # Initialisation of the best validation loss for a large number of users\n",
        "    patience_count = 0  # Patience counter\n",
        "\n",
        "    for epoch in range(epochs):\n",
        "        # Training mode\n",
        "        model.train()\n",
        "        total_loss = 0\n",
        "\n",
        "        for sequences, labels in train_loader:\n",
        "            optimizer.zero_grad()\n",
        "            output = model(sequences)\n",
        "            loss = criterion(output, labels.to(torch.float))\n",
        "            loss.backward()\n",
        "            optimizer.step()\n",
        "            total_loss += loss.item()\n",
        "\n",
        "        avg_train_loss = total_loss / len(train_loader)\n",
        "        print(f'Epoch {epoch+1}, Train Loss: {avg_train_loss:.4f}')\n",
        "\n",
        "        # Assessment method for the validation set\n",
        "        val_loss = evaluate(model, val_loader, criterion)\n",
        "\n",
        "        print(f'Epoch {epoch+1}, Validation Loss: {val_loss:.4f}')\n",
        "\n",
        "        # Verification of the improvement in validation loss\n",
        "        if val_loss < best_val_loss:\n",
        "            best_val_loss = val_loss  # Update the best validation loss\n",
        "            patience_count = 0  # Resetting the patience counter\n",
        "            # You can save the model if you need to\n",
        "            torch.save(model.state_dict(), 'best_model.pth')\n",
        "        else:\n",
        "            patience_count += 1\n",
        "            if patience_count >= patience:\n",
        "                print(\"Early stopping triggered\")\n",
        "                break\n",
        "\n",
        "# Evaluation function to calculate the loss of validation\n",
        "def evaluate(model, val_loader, criterion):\n",
        "    model.eval()  # Evaluation mode (disables dropout, etc.)\n",
        "    total_val_loss = 0\n",
        "\n",
        "    with torch.no_grad():  # No need to calculate gradients\n",
        "        for sequences, labels in val_loader:\n",
        "            output = model(sequences)\n",
        "            loss = criterion(output, labels.to(torch.float))\n",
        "            total_val_loss += loss.item()\n",
        "\n",
        "    avg_val_loss = total_val_loss / len(val_loader)\n",
        "    return avg_val_loss\n",
        "\n",
        "def test(model, test_loader):\n",
        "    model.eval()\n",
        "    total_correct = 0\n",
        "    predictions = []\n",
        "    with torch.no_grad():\n",
        "        for sequences, labels in test_loader:\n",
        "            output = model(sequences)\n",
        "            prediction = torch.argmax(output, dim=1)\n",
        "            labels = torch.argmax(labels)\n",
        "            total_correct += (prediction == labels).sum().item()\n",
        "            predictions.append(prediction)\n",
        "    accuracy = total_correct / len(test_loader.dataset)\n",
        "    print(f'Accuracy: {accuracy:.4f}')\n",
        "    return torch.tensor(predictions)"
      ]
    },
    {
      "cell_type": "markdown",
      "id": "52c3f828-8e0b-41c1-bf23-be1ae29319f3",
      "metadata": {
        "id": "52c3f828-8e0b-41c1-bf23-be1ae29319f3"
      },
      "source": [
        "### 4.1 Model training\n",
        "\n",
        "We're (finally!) going to move on to training the model. We choose an optimizer and a criterion.\n",
        "\n",
        "<span style=\"color: red\"> TODO:</span> start the workout. What do you notice? How do you explain it?"
      ]
    },
    {
      "cell_type": "code",
      "execution_count": 28,
      "id": "48306522-70bf-4858-9964-240129097849",
      "metadata": {
        "id": "48306522-70bf-4858-9964-240129097849"
      },
      "outputs": [],
      "source": [
        "optimizer = Adam(model.parameters(), lr=0.01)\n",
        "criterion = nn.CrossEntropyLoss()\n",
        "epochs=5\n",
        "patience=3"
      ]
    },
    {
      "cell_type": "code",
      "execution_count": 29,
      "id": "d05b5507-1209-421f-9ab7-b0daa20929f7",
      "metadata": {
        "id": "d05b5507-1209-421f-9ab7-b0daa20929f7"
      },
      "outputs": [],
      "source": [
        "# train(model, train_loader, val_loader, criterion, optimizer, epochs=10, patience=3)"
      ]
    },
    {
      "cell_type": "markdown",
      "id": "b1e6aa3f-138e-48f1-9272-526d07ca3400",
      "metadata": {
        "id": "b1e6aa3f-138e-48f1-9272-526d07ca3400"
      },
      "source": [
        "### 4.2 Loading the best model\n",
        "\n",
        "The best model, saved during training, is loaded."
      ]
    },
    {
      "cell_type": "code",
      "execution_count": 42,
      "id": "2294c02f-8595-4f94-9ec1-ae2361910d49",
      "metadata": {
        "colab": {
          "base_uri": "https://localhost:8080/"
        },
        "id": "2294c02f-8595-4f94-9ec1-ae2361910d49",
        "outputId": "63cb98fd-7d93-44e2-8c3b-680e2a915d6a"
      },
      "outputs": [
        {
          "output_type": "execute_result",
          "data": {
            "text/plain": [
              "<All keys matched successfully>"
            ]
          },
          "metadata": {},
          "execution_count": 42
        }
      ],
      "source": [
        "model = LSTMModel(vocab_size, embedding_size, hidden_size, output_size)\n",
        "model.load_state_dict(torch.load('saved_model.pth', weights_only=True))"
      ]
    },
    {
      "cell_type": "markdown",
      "id": "8e434700-48d1-4952-9f83-1e04c571f4f4",
      "metadata": {
        "id": "8e434700-48d1-4952-9f83-1e04c571f4f4"
      },
      "source": [
        "### 4.3 Evaluation of the model on a test basis"
      ]
    },
    {
      "cell_type": "markdown",
      "id": "13932033-c328-4143-a3ad-039eee0b7c32",
      "metadata": {
        "id": "13932033-c328-4143-a3ad-039eee0b7c32"
      },
      "source": [
        "<span style=\"color: red\"> Question:</span> Test the model on the test base. What do you think of it?"
      ]
    },
    {
      "cell_type": "markdown",
      "source": [
        "<span style=\"color: blue\"> Answer:</span> With an accuracy of around 0.9 (90%), the model is pretty good. But it's not amazing, maybe because of the bias created by the over-representation of \"joy\" and \"sadness\" in the training and validation datasets."
      ],
      "metadata": {
        "id": "0uK5e27xJli1"
      },
      "id": "0uK5e27xJli1"
    },
    {
      "cell_type": "code",
      "execution_count": 43,
      "id": "a70a4b37-ebc2-4b70-bba4-5f0e2433d788",
      "metadata": {
        "colab": {
          "base_uri": "https://localhost:8080/"
        },
        "id": "a70a4b37-ebc2-4b70-bba4-5f0e2433d788",
        "outputId": "b1c1b323-9093-4f2c-8673-1652e1d395ae"
      },
      "outputs": [
        {
          "output_type": "stream",
          "name": "stderr",
          "text": [
            "/tmp/ipython-input-24-514565054.py:13: UserWarning: To copy construct from a tensor, it is recommended to use sourceTensor.clone().detach() or sourceTensor.clone().detach().requires_grad_(True), rather than torch.tensor(sourceTensor).\n",
            "  return torch.tensor(sequence, dtype=torch.long).clone().detach(), torch.tensor(label, dtype=torch.long).clone().detach()\n"
          ]
        },
        {
          "output_type": "stream",
          "name": "stdout",
          "text": [
            "Accuracy: 0.9025\n"
          ]
        }
      ],
      "source": [
        "predictions = test(model, test_loader)"
      ]
    },
    {
      "cell_type": "markdown",
      "id": "39c838a0-ebd3-464a-bc64-c31703f299a4",
      "metadata": {
        "id": "39c838a0-ebd3-464a-bc64-c31703f299a4"
      },
      "source": [
        "<span style=\"color: red\"> TODO:</span> Display the confusion matrix."
      ]
    },
    {
      "cell_type": "code",
      "execution_count": 44,
      "id": "64151818-980d-468d-ad29-4ab22179dcd8",
      "metadata": {
        "colab": {
          "base_uri": "https://localhost:8080/",
          "height": 466
        },
        "id": "64151818-980d-468d-ad29-4ab22179dcd8",
        "outputId": "04d98885-8207-4ffb-8087-86bdb50c5577"
      },
      "outputs": [
        {
          "output_type": "execute_result",
          "data": {
            "text/plain": [
              "<sklearn.metrics._plot.confusion_matrix.ConfusionMatrixDisplay at 0x7ea7f97f1310>"
            ]
          },
          "metadata": {},
          "execution_count": 44
        },
        {
          "output_type": "display_data",
          "data": {
            "text/plain": [
              "<Figure size 640x480 with 2 Axes>"
            ],
            "image/png": "[encoded data removed]"
          },
          "metadata": {}
        }
      ],
      "source": [
        "from sklearn.metrics import confusion_matrix, ConfusionMatrixDisplay\n",
        "\n",
        "cm = confusion_matrix(y_test, predictions)\n",
        "disp = ConfusionMatrixDisplay(cm, display_labels=emotions.values())\n",
        "disp.plot()"
      ]
    },
    {
      "cell_type": "markdown",
      "id": "22dcbd67-b7a3-48a5-8ff7-201bf301d65b",
      "metadata": {
        "id": "22dcbd67-b7a3-48a5-8ff7-201bf301d65b"
      },
      "source": [
        "<span style=\"color: red\"> TODO:</span> Display a few sentences from the test base whose prediction is wrong, with the actual emotion and the predicted emotion."
      ]
    },
    {
      "cell_type": "code",
      "execution_count": 45,
      "id": "9eedaaf1-c73d-4efa-9a32-b3669f182e85",
      "metadata": {
        "colab": {
          "base_uri": "https://localhost:8080/",
          "height": 423
        },
        "id": "9eedaaf1-c73d-4efa-9a32-b3669f182e85",
        "outputId": "74cab38d-67e8-4df8-d913-9a66af499f60"
      },
      "outputs": [
        {
          "output_type": "execute_result",
          "data": {
            "text/plain": [
              "                                                   text  label  prediction\n",
              "6      i felt anger when at the end of a telephone call      3           1\n",
              "10                   i don t feel particularly agitated      4           3\n",
              "22    i survey my own posts over the last few years ...      1           5\n",
              "26            i am feeling outraged it shows everywhere      3           1\n",
              "34    i feel like i m defective or something for not...      0           5\n",
              "...                                                 ...    ...         ...\n",
              "1959  i check you when you re sleeping feel your nos...      1           2\n",
              "1964  i was feeling disheartened when going on dates...      0           3\n",
              "1970  i guess as long as the table in the above is p...      2           5\n",
              "1979  i have no strong feelings for this book neithe...      3           0\n",
              "1991  i dont blame it all to them and im not angry a...      2           3\n",
              "\n",
              "[195 rows x 3 columns]"
            ],
            "text/html": [
              "\n",
              "  <div id=\"df-6caff6b1-1022-400e-841f-1060f8f95bdf\" class=\"colab-df-container\">\n",
              "    <div>\n",
              "<style scoped>\n",
              "    .dataframe tbody tr th:only-of-type {\n",
              "        vertical-align: middle;\n",
              "    }\n",
              "\n",
              "    .dataframe tbody tr th {\n",
              "        vertical-align: top;\n",
              "    }\n",
              "\n",
              "    .dataframe thead th {\n",
              "        text-align: right;\n",
              "    }\n",
              "</style>\n",
              "<table border=\"1\" class=\"dataframe\">\n",
              "  <thead>\n",
              "    <tr style=\"text-align: right;\">\n",
              "      <th></th>\n",
              "      <th>text</th>\n",
              "      <th>label</th>\n",
              "      <th>prediction</th>\n",
              "    </tr>\n",
              "  </thead>\n",
              "  <tbody>\n",
              "    <tr>\n",
              "      <th>6</th>\n",
              "      <td>i felt anger when at the end of a telephone call</td>\n",
              "      <td>3</td>\n",
              "      <td>1</td>\n",
              "    </tr>\n",
              "    <tr>\n",
              "      <th>10</th>\n",
              "      <td>i don t feel particularly agitated</td>\n",
              "      <td>4</td>\n",
              "      <td>3</td>\n",
              "    </tr>\n",
              "    <tr>\n",
              "      <th>22</th>\n",
              "      <td>i survey my own posts over the last few years ...</td>\n",
              "      <td>1</td>\n",
              "      <td>5</td>\n",
              "    </tr>\n",
              "    <tr>\n",
              "      <th>26</th>\n",
              "      <td>i am feeling outraged it shows everywhere</td>\n",
              "      <td>3</td>\n",
              "      <td>1</td>\n",
              "    </tr>\n",
              "    <tr>\n",
              "      <th>34</th>\n",
              "      <td>i feel like i m defective or something for not...</td>\n",
              "      <td>0</td>\n",
              "      <td>5</td>\n",
              "    </tr>\n",
              "    <tr>\n",
              "      <th>...</th>\n",
              "      <td>...</td>\n",
              "      <td>...</td>\n",
              "      <td>...</td>\n",
              "    </tr>\n",
              "    <tr>\n",
              "      <th>1959</th>\n",
              "      <td>i check you when you re sleeping feel your nos...</td>\n",
              "      <td>1</td>\n",
              "      <td>2</td>\n",
              "    </tr>\n",
              "    <tr>\n",
              "      <th>1964</th>\n",
              "      <td>i was feeling disheartened when going on dates...</td>\n",
              "      <td>0</td>\n",
              "      <td>3</td>\n",
              "    </tr>\n",
              "    <tr>\n",
              "      <th>1970</th>\n",
              "      <td>i guess as long as the table in the above is p...</td>\n",
              "      <td>2</td>\n",
              "      <td>5</td>\n",
              "    </tr>\n",
              "    <tr>\n",
              "      <th>1979</th>\n",
              "      <td>i have no strong feelings for this book neithe...</td>\n",
              "      <td>3</td>\n",
              "      <td>0</td>\n",
              "    </tr>\n",
              "    <tr>\n",
              "      <th>1991</th>\n",
              "      <td>i dont blame it all to them and im not angry a...</td>\n",
              "      <td>2</td>\n",
              "      <td>3</td>\n",
              "    </tr>\n",
              "  </tbody>\n",
              "</table>\n",
              "<p>195 rows × 3 columns</p>\n",
              "</div>\n",
              "    <div class=\"colab-df-buttons\">\n",
              "\n",
              "  <div class=\"colab-df-container\">\n",
              "    <button class=\"colab-df-convert\" onclick=\"convertToInteractive('df-6caff6b1-1022-400e-841f-1060f8f95bdf')\"\n",
              "            title=\"Convert this dataframe to an interactive table.\"\n",
              "            style=\"display:none;\">\n",
              "\n",
              "  <svg xmlns=\"http://www.w3.org/2000/svg\" height=\"24px\" viewBox=\"0 -960 960 960\">\n",
              "    <path d=\"M120-120v-720h720v720H120Zm60-500h600v-160H180v160Zm220 220h160v-160H400v160Zm0 220h160v-160H400v160ZM180-400h160v-160H180v160Zm440 0h160v-160H620v160ZM180-180h160v-160H180v160Zm440 0h160v-160H620v160Z\"/>\n",
              "  </svg>\n",
              "    </button>\n",
              "\n",
              "  <style>\n",
              "    .colab-df-container {\n",
              "      display:flex;\n",
              "      gap: 12px;\n",
              "    }\n",
              "\n",
              "    .colab-df-convert {\n",
              "      background-color: #E8F0FE;\n",
              "      border: none;\n",
              "      border-radius: 50%;\n",
              "      cursor: pointer;\n",
              "      display: none;\n",
              "      fill: #1967D2;\n",
              "      height: 32px;\n",
              "      padding: 0 0 0 0;\n",
              "      width: 32px;\n",
              "    }\n",
              "\n",
              "    .colab-df-convert:hover {\n",
              "      background-color: #E2EBFA;\n",
              "      box-shadow: 0px 1px 2px rgba(60, 64, 67, 0.3), 0px 1px 3px 1px rgba(60, 64, 67, 0.15);\n",
              "      fill: #174EA6;\n",
              "    }\n",
              "\n",
              "    .colab-df-buttons div {\n",
              "      margin-bottom: 4px;\n",
              "    }\n",
              "\n",
              "    [theme=dark] .colab-df-convert {\n",
              "      background-color: #3B4455;\n",
              "      fill: #D2E3FC;\n",
              "    }\n",
              "\n",
              "    [theme=dark] .colab-df-convert:hover {\n",
              "      background-color: #434B5C;\n",
              "      box-shadow: 0px 1px 3px 1px rgba(0, 0, 0, 0.15);\n",
              "      filter: drop-shadow(0px 1px 2px rgba(0, 0, 0, 0.3));\n",
              "      fill: #FFFFFF;\n",
              "    }\n",
              "  </style>\n",
              "\n",
              "    <script>\n",
              "      const buttonEl =\n",
              "        document.querySelector('#df-6caff6b1-1022-400e-841f-1060f8f95bdf button.colab-df-convert');\n",
              "      buttonEl.style.display =\n",
              "        google.colab.kernel.accessAllowed ? 'block' : 'none';\n",
              "\n",
              "      async function convertToInteractive(key) {\n",
              "        const element = document.querySelector('#df-6caff6b1-1022-400e-841f-1060f8f95bdf');\n",
              "        const dataTable =\n",
              "          await google.colab.kernel.invokeFunction('convertToInteractive',\n",
              "                                                    [key], {});\n",
              "        if (!dataTable) return;\n",
              "\n",
              "        const docLinkHtml = 'Like what you see? Visit the ' +\n",
              "          '<a target=\"_blank\" href=https://colab.research.google.com/notebooks/data_table.ipynb>data table notebook</a>'\n",
              "          + ' to learn more about interactive tables.';\n",
              "        element.innerHTML = '';\n",
              "        dataTable['output_type'] = 'display_data';\n",
              "        await google.colab.output.renderOutput(dataTable, element);\n",
              "        const docLink = document.createElement('div');\n",
              "        docLink.innerHTML = docLinkHtml;\n",
              "        element.appendChild(docLink);\n",
              "      }\n",
              "    </script>\n",
              "  </div>\n",
              "\n",
              "\n",
              "    <div id=\"df-922c8869-960b-40f4-abf0-79ba4d44170e\">\n",
              "      <button class=\"colab-df-quickchart\" onclick=\"quickchart('df-922c8869-960b-40f4-abf0-79ba4d44170e')\"\n",
              "                title=\"Suggest charts\"\n",
              "                style=\"display:none;\">\n",
              "\n",
              "<svg xmlns=\"http://www.w3.org/2000/svg\" height=\"24px\"viewBox=\"0 0 24 24\"\n",
              "     width=\"24px\">\n",
              "    <g>\n",
              "        <path d=\"M19 3H5c-1.1 0-2 .9-2 2v14c0 1.1.9 2 2 2h14c1.1 0 2-.9 2-2V5c0-1.1-.9-2-2-2zM9 17H7v-7h2v7zm4 0h-2V7h2v10zm4 0h-2v-4h2v4z\"/>\n",
              "    </g>\n",
              "</svg>\n",
              "      </button>\n",
              "\n",
              "<style>\n",
              "  .colab-df-quickchart {\n",
              "      --bg-color: #E8F0FE;\n",
              "      --fill-color: #1967D2;\n",
              "      --hover-bg-color: #E2EBFA;\n",
              "      --hover-fill-color: #174EA6;\n",
              "      --disabled-fill-color: #AAA;\n",
              "      --disabled-bg-color: #DDD;\n",
              "  }\n",
              "\n",
              "  [theme=dark] .colab-df-quickchart {\n",
              "      --bg-color: #3B4455;\n",
              "      --fill-color: #D2E3FC;\n",
              "      --hover-bg-color: #434B5C;\n",
              "      --hover-fill-color: #FFFFFF;\n",
              "      --disabled-bg-color: #3B4455;\n",
              "      --disabled-fill-color: #666;\n",
              "  }\n",
              "\n",
              "  .colab-df-quickchart {\n",
              "    background-color: var(--bg-color);\n",
              "    border: none;\n",
              "    border-radius: 50%;\n",
              "    cursor: pointer;\n",
              "    display: none;\n",
              "    fill: var(--fill-color);\n",
              "    height: 32px;\n",
              "    padding: 0;\n",
              "    width: 32px;\n",
              "  }\n",
              "\n",
              "  .colab-df-quickchart:hover {\n",
              "    background-color: var(--hover-bg-color);\n",
              "    box-shadow: 0 1px 2px rgba(60, 64, 67, 0.3), 0 1px 3px 1px rgba(60, 64, 67, 0.15);\n",
              "    fill: var(--button-hover-fill-color);\n",
              "  }\n",
              "\n",
              "  .colab-df-quickchart-complete:disabled,\n",
              "  .colab-df-quickchart-complete:disabled:hover {\n",
              "    background-color: var(--disabled-bg-color);\n",
              "    fill: var(--disabled-fill-color);\n",
              "    box-shadow: none;\n",
              "  }\n",
              "\n",
              "  .colab-df-spinner {\n",
              "    border: 2px solid var(--fill-color);\n",
              "    border-color: transparent;\n",
              "    border-bottom-color: var(--fill-color);\n",
              "    animation:\n",
              "      spin 1s steps(1) infinite;\n",
              "  }\n",
              "\n",
              "  @keyframes spin {\n",
              "    0% {\n",
              "      border-color: transparent;\n",
              "      border-bottom-color: var(--fill-color);\n",
              "      border-left-color: var(--fill-color);\n",
              "    }\n",
              "    20% {\n",
              "      border-color: transparent;\n",
              "      border-left-color: var(--fill-color);\n",
              "      border-top-color: var(--fill-color);\n",
              "    }\n",
              "    30% {\n",
              "      border-color: transparent;\n",
              "      border-left-color: var(--fill-color);\n",
              "      border-top-color: var(--fill-color);\n",
              "      border-right-color: var(--fill-color);\n",
              "    }\n",
              "    40% {\n",
              "      border-color: transparent;\n",
              "      border-right-color: var(--fill-color);\n",
              "      border-top-color: var(--fill-color);\n",
              "    }\n",
              "    60% {\n",
              "      border-color: transparent;\n",
              "      border-right-color: var(--fill-color);\n",
              "    }\n",
              "    80% {\n",
              "      border-color: transparent;\n",
              "      border-right-color: var(--fill-color);\n",
              "      border-bottom-color: var(--fill-color);\n",
              "    }\n",
              "    90% {\n",
              "      border-color: transparent;\n",
              "      border-bottom-color: var(--fill-color);\n",
              "    }\n",
              "  }\n",
              "</style>\n",
              "\n",
              "      <script>\n",
              "        async function quickchart(key) {\n",
              "          const quickchartButtonEl =\n",
              "            document.querySelector('#' + key + ' button');\n",
              "          quickchartButtonEl.disabled = true;  // To prevent multiple clicks.\n",
              "          quickchartButtonEl.classList.add('colab-df-spinner');\n",
              "          try {\n",
              "            const charts = await google.colab.kernel.invokeFunction(\n",
              "                'suggestCharts', [key], {});\n",
              "          } catch (error) {\n",
              "            console.error('Error during call to suggestCharts:', error);\n",
              "          }\n",
              "          quickchartButtonEl.classList.remove('colab-df-spinner');\n",
              "          quickchartButtonEl.classList.add('colab-df-quickchart-complete');\n",
              "        }\n",
              "        (() => {\n",
              "          let quickchartButtonEl =\n",
              "            document.querySelector('#df-922c8869-960b-40f4-abf0-79ba4d44170e button');\n",
              "          quickchartButtonEl.style.display =\n",
              "            google.colab.kernel.accessAllowed ? 'block' : 'none';\n",
              "        })();\n",
              "      </script>\n",
              "    </div>\n",
              "\n",
              "    </div>\n",
              "  </div>\n"
            ],
            "application/vnd.google.colaboratory.intrinsic+json": {
              "type": "dataframe",
              "summary": "{\n  \"name\": \"test_set\",\n  \"rows\": 195,\n  \"fields\": [\n    {\n      \"column\": \"text\",\n      \"properties\": {\n        \"dtype\": \"string\",\n        \"num_unique_values\": 195,\n        \"samples\": [\n          \"i was like should i feel sweet or feel offended\",\n          \"im feeling generous today heres one more you may have already seen but is good for a chuckle\",\n          \"i have strong feelings about being faithful\"\n        ],\n        \"semantic_type\": \"\",\n        \"description\": \"\"\n      }\n    },\n    {\n      \"column\": \"label\",\n      \"properties\": {\n        \"dtype\": \"number\",\n        \"std\": 1,\n        \"min\": 0,\n        \"max\": 5,\n        \"num_unique_values\": 6,\n        \"samples\": [\n          3,\n          4,\n          2\n        ],\n        \"semantic_type\": \"\",\n        \"description\": \"\"\n      }\n    },\n    {\n      \"column\": \"prediction\",\n      \"properties\": {\n        \"dtype\": \"number\",\n        \"std\": 1,\n        \"min\": 0,\n        \"max\": 5,\n        \"num_unique_values\": 6,\n        \"samples\": [\n          1,\n          3,\n          2\n        ],\n        \"semantic_type\": \"\",\n        \"description\": \"\"\n      }\n    }\n  ]\n}"
            }
          },
          "metadata": {},
          "execution_count": 45
        }
      ],
      "source": [
        "test_set[\"prediction\"] = np.array(predictions)\n",
        "\n",
        "test_set.loc[np.array(predictions)!=y_test]"
      ]
    },
    {
      "cell_type": "markdown",
      "id": "d5d3ff2e-0388-465a-b80b-e70a767b5b2e",
      "metadata": {
        "id": "d5d3ff2e-0388-465a-b80b-e70a767b5b2e"
      },
      "source": [
        "## 5. Emotion prediction\n",
        "\n",
        "<span style=\"color: red\"> TODO:</span> Using everything we've done so far, build a function to predict the emotion of a given sentence using the model we've created and trained. Put it to the test!"
      ]
    },
    {
      "cell_type": "code",
      "execution_count": 46,
      "id": "c64bef1a-9a2d-4db7-9cec-b357401588d3",
      "metadata": {
        "id": "c64bef1a-9a2d-4db7-9cec-b357401588d3"
      },
      "outputs": [],
      "source": [
        "def predict_emotion(model, encoder, sentence):\n",
        "    print(\"Original sentence :\", sentence)\n",
        "    tokens = tokenize_text(sentence)\n",
        "    print(\"Tokenized sentence :\", tokens)\n",
        "    encoded_sentence = encode_sentences(encoder, [tokens])\n",
        "    print(\"Encoded sentence :\", encoded_sentence)\n",
        "    padded_sentence = make_zero_padding(encoded_sentence, length_longest_sentence)\n",
        "    print(\"Padded encoded sentence :\", padded_sentence)\n",
        "    x = torch.tensor(np.array(padded_sentence))\n",
        "    output = model(x)\n",
        "    print(\"Predicted output :\", output)\n",
        "    emotion = emotions[np.argmax(output.detach().numpy())]\n",
        "    print(\"Predicted emotion :\", emotion)\n",
        "    return"
      ]
    },
    {
      "cell_type": "code",
      "execution_count": 48,
      "id": "c964485f-72a2-44bf-9abf-c2b2871e25ab",
      "metadata": {
        "colab": {
          "base_uri": "https://localhost:8080/"
        },
        "id": "c964485f-72a2-44bf-9abf-c2b2871e25ab",
        "outputId": "6848fe06-5822-4fe2-ff9e-c21a83791c43"
      },
      "outputs": [
        {
          "output_type": "stream",
          "name": "stdout",
          "text": [
            "Original sentence : I am not happy\n",
            "Tokenized sentence : ['i', 'am', 'not', 'happy']\n",
            "Encoded sentence : [array([ 7306,   483, 10205,  6728])]\n",
            "Padded encoded sentence : [array([ 7306,   483, 10205,  6728,     0,     0,     0,     0,     0,\n",
            "           0,     0,     0,     0,     0,     0,     0,     0,     0,\n",
            "           0,     0,     0,     0,     0,     0,     0,     0,     0,\n",
            "           0,     0,     0,     0,     0,     0,     0,     0,     0,\n",
            "           0,     0,     0,     0,     0,     0,     0,     0,     0,\n",
            "           0,     0,     0,     0,     0,     0,     0,     0,     0,\n",
            "           0,     0,     0,     0,     0,     0,     0,     0,     0,\n",
            "           0,     0,     0])]\n",
            "Predicted output : tensor([[6.1495e-19, 1.0000e+00, 7.5164e-17, 1.1425e-14, 7.5980e-16, 3.5612e-19]],\n",
            "       grad_fn=<SoftmaxBackward0>)\n",
            "Predicted emotion : joy\n"
          ]
        }
      ],
      "source": [
        "predict_emotion(model, encoder, \"I am not happy\")"
      ]
    },
    {
      "cell_type": "markdown",
      "id": "40d7b140-a8e8-42cb-9699-5a9a4bf2cee6",
      "metadata": {
        "id": "40d7b140-a8e8-42cb-9699-5a9a4bf2cee6"
      },
      "source": [
        "## Conclusion\n",
        "\n",
        "<span style=\"color: red\"> TODO:</span> Conclude on this study: what do you think? What are the strengths and weaknesses of this model? How could we improve it? What is the usefulness of such a system? Is it really useful? Is there a need for such a system? You can express your feelings, positive or negative."
      ]
    },
    {
      "cell_type": "markdown",
      "source": [
        "It is really interesting to see how a text is processed by a LSTM. <br>\n",
        "This model in particular is quite good to recognize the emotion in a text, even if it is way to much influenced by few words. For instance, if we say \"I am not happy\", the model will mostly focus on the world \"happy\" and so consider the emotion of this text as \"joy\".<br>\n",
        "We can also notice that the emotion less represented in the datasets are often less predicted correctly than the joy or sadness, certainly due to the bias in the datasets.<br>\n",
        "Such a system might be useful to detect the emotions during a conversation for example"
      ],
      "metadata": {
        "id": "awI3fhskKOMV"
      },
      "id": "awI3fhskKOMV"
    },
    {
      "cell_type": "code",
      "execution_count": null,
      "id": "3ecace92-4ab0-4921-bcdc-c38d15956932",
      "metadata": {
        "id": "3ecace92-4ab0-4921-bcdc-c38d15956932"
      },
      "outputs": [],
      "source": []
    }
  ],
  "metadata": {
    "kernelspec": {
      "display_name": "Python 3 (ipykernel)",
      "language": "python",
      "name": "python3"
    },
    "language_info": {
      "codemirror_mode": {
        "name": "ipython",
        "version": 3
      },
      "file_extension": ".py",
      "mimetype": "text/x-python",
      "name": "python",
      "nbconvert_exporter": "python",
      "pygments_lexer": "ipython3",
      "version": "3.12.10"
    },
    "colab": {
      "provenance": []
    }
  },
  "nbformat": 4,
  "nbformat_minor": 5
}