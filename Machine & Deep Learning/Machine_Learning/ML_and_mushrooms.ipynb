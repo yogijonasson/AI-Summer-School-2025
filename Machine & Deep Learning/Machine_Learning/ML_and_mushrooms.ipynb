{
  "cells": [
    {
      "cell_type": "markdown",
      "id": "207aa7cc-75ff-4cb7-a9a9-ba9ff699d692",
      "metadata": {
        "id": "207aa7cc-75ff-4cb7-a9a9-ba9ff699d692"
      },
      "source": [
        "# Comestibility of mushrooms: classification by AI"
      ]
    },
    {
      "cell_type": "markdown",
      "id": "30b881b3-0e1a-431f-99a6-9aeef0ee5f65",
      "metadata": {
        "id": "30b881b3-0e1a-431f-99a6-9aeef0ee5f65"
      },
      "source": [
        "Author : Hugo Wattelar\n",
        "\n",
        "In June 2019, Réserves Naturelles de France and INPN (Inventaire National du Patrimoine Naturel) published a [report](https://inpn.mnhn.fr/docs/communication/livretInpn/livret_etatdeslieux_patnat_dans_les_reserves_naturelles_2019.pdf) taking stock of France's natural heritage in nature reserves. Nearly 30,000 species of mushroom were inventoried in mainland France. Although they come in a wide variety of shapes, sizes and textures, only a handful of them are edible (around a hundred according to [France Assos Santé](https://www.france-assos-sante.org/2015/09/18/champignon-un-cueilleur-averti-en-vaut-deux/)). In addition, almost 2,000 cases of mushroom poisoning were reported to poison control centres between 1 July and 31 December 2022 (https://www.francebleu.fr/infos/environnement/champignons-plus-de-250-cas-d-intoxication-depuis-le-1er-aout-gare-aux-applications-de-reconnaissance-2907091).\n",
        "\n",
        "The aim of this tutorial is to use different Machine Learning algorithms to differentiate between poisonous and edible mushrooms on the basis of their characteristics.\n",
        "\n",
        "We're going to use the [Mushroom Dataset] database (https://archive.ics.uci.edu/dataset/848/secondary+mushroom+dataset). This database contains 23 different mushroom families."
      ]
    },
    {
      "cell_type": "code",
      "execution_count": null,
      "id": "6c7f8802-b486-43bd-81a1-df21ddb2c6f4",
      "metadata": {
        "id": "6c7f8802-b486-43bd-81a1-df21ddb2c6f4",
        "outputId": "ac74c454-cd53-4bbc-c6ac-aede49c96699"
      },
      "outputs": [
        {
          "name": "stdout",
          "output_type": "stream",
          "text": [
            "Requirement already satisfied: seaborn in /opt/conda/lib/python3.12/site-packages (0.13.2)\n",
            "Requirement already satisfied: numpy!=1.24.0,>=1.20 in /opt/conda/lib/python3.12/site-packages (from seaborn) (2.1.3)\n",
            "Requirement already satisfied: pandas>=1.2 in /opt/conda/lib/python3.12/site-packages (from seaborn) (2.2.2)\n",
            "Requirement already satisfied: matplotlib!=3.6.1,>=3.4 in /opt/conda/lib/python3.12/site-packages (from seaborn) (3.10.1)\n",
            "Requirement already satisfied: contourpy>=1.0.1 in /opt/conda/lib/python3.12/site-packages (from matplotlib!=3.6.1,>=3.4->seaborn) (1.3.2)\n",
            "Requirement already satisfied: cycler>=0.10 in /opt/conda/lib/python3.12/site-packages (from matplotlib!=3.6.1,>=3.4->seaborn) (0.12.1)\n",
            "Requirement already satisfied: fonttools>=4.22.0 in /opt/conda/lib/python3.12/site-packages (from matplotlib!=3.6.1,>=3.4->seaborn) (4.57.0)\n",
            "Requirement already satisfied: kiwisolver>=1.3.1 in /opt/conda/lib/python3.12/site-packages (from matplotlib!=3.6.1,>=3.4->seaborn) (1.4.8)\n",
            "Requirement already satisfied: packaging>=20.0 in /opt/conda/lib/python3.12/site-packages (from matplotlib!=3.6.1,>=3.4->seaborn) (25.0)\n",
            "Requirement already satisfied: pillow>=8 in /opt/conda/lib/python3.12/site-packages (from matplotlib!=3.6.1,>=3.4->seaborn) (11.1.0)\n",
            "Requirement already satisfied: pyparsing>=2.3.1 in /opt/conda/lib/python3.12/site-packages (from matplotlib!=3.6.1,>=3.4->seaborn) (3.2.3)\n",
            "Requirement already satisfied: python-dateutil>=2.7 in /opt/conda/lib/python3.12/site-packages (from matplotlib!=3.6.1,>=3.4->seaborn) (2.9.0.post0)\n",
            "Requirement already satisfied: pytz>=2020.1 in /opt/conda/lib/python3.12/site-packages (from pandas>=1.2->seaborn) (2025.2)\n",
            "Requirement already satisfied: tzdata>=2022.7 in /opt/conda/lib/python3.12/site-packages (from pandas>=1.2->seaborn) (2025.2)\n",
            "Requirement already satisfied: six>=1.5 in /opt/conda/lib/python3.12/site-packages (from python-dateutil>=2.7->matplotlib!=3.6.1,>=3.4->seaborn) (1.17.0)\n",
            "Note: you may need to restart the kernel to use updated packages.\n"
          ]
        }
      ],
      "source": [
        "pip install seaborn"
      ]
    },
    {
      "cell_type": "code",
      "execution_count": null,
      "id": "7554af1b-346b-46ee-9f88-9199a3a6065a",
      "metadata": {
        "id": "7554af1b-346b-46ee-9f88-9199a3a6065a"
      },
      "outputs": [],
      "source": [
        "import numpy as np\n",
        "import pandas as pd\n",
        "import matplotlib.pyplot as plt\n",
        "from sklearn.model_selection import train_test_split\n",
        "from sklearn.preprocessing import StandardScaler\n",
        "import seaborn as sns"
      ]
    },
    {
      "cell_type": "markdown",
      "id": "e7048fe0-e7e9-42c8-b16b-58fd85ca9660",
      "metadata": {
        "id": "e7048fe0-e7e9-42c8-b16b-58fd85ca9660"
      },
      "source": [
        "## 1 Loading and exploring the database\n",
        "\n",
        "We start by loading and understanding the data structure.\n",
        "\n",
        "<span style=\"color: red\"> Question:</span> How many mushrooms are described in this database? By how many characteristics?"
      ]
    },
    {
      "cell_type": "code",
      "execution_count": null,
      "id": "ba4bb32b-93b2-4e2d-af55-764438e4d197",
      "metadata": {
        "id": "ba4bb32b-93b2-4e2d-af55-764438e4d197",
        "outputId": "cded9ae5-36af-4cff-8e1d-6d0f1bc5b692"
      },
      "outputs": [
        {
          "data": {
            "text/plain": [
              "(8124, 23)"
            ]
          },
          "execution_count": 3,
          "metadata": {},
          "output_type": "execute_result"
        }
      ],
      "source": [
        "data = pd.read_csv(\"mushrooms.csv\").drop_duplicates()\n",
        "data.shape"
      ]
    },
    {
      "cell_type": "markdown",
      "id": "5c18cae3-5527-4f07-9fe0-f6c993285a32",
      "metadata": {
        "id": "5c18cae3-5527-4f07-9fe0-f6c993285a32"
      },
      "source": [
        "<span style=\"color: red\"> TODO:</span> Uncomment the rows below one by one to explore the data and understand its structure. View some samples of the database. What do you notice?\n",
        "\n",
        "<span style=\"color: blue\"> TODO:</span> All variables are categorical variables so we can't use them like that for Machine Learning.\n"
      ]
    },
    {
      "cell_type": "code",
      "execution_count": null,
      "id": "9226eaab-acad-48b7-a609-ef42919eaab7",
      "metadata": {
        "id": "9226eaab-acad-48b7-a609-ef42919eaab7",
        "outputId": "2582adb1-970c-4907-b6c6-cd19584a55d6"
      },
      "outputs": [
        {
          "data": {
            "text/html": [
              "<div>\n",
              "<style scoped>\n",
              "    .dataframe tbody tr th:only-of-type {\n",
              "        vertical-align: middle;\n",
              "    }\n",
              "\n",
              "    .dataframe tbody tr th {\n",
              "        vertical-align: top;\n",
              "    }\n",
              "\n",
              "    .dataframe thead th {\n",
              "        text-align: right;\n",
              "    }\n",
              "</style>\n",
              "<table border=\"1\" class=\"dataframe\">\n",
              "  <thead>\n",
              "    <tr style=\"text-align: right;\">\n",
              "      <th></th>\n",
              "      <th>class</th>\n",
              "      <th>cap-shape</th>\n",
              "      <th>cap-surface</th>\n",
              "      <th>cap-color</th>\n",
              "      <th>bruises</th>\n",
              "      <th>odor</th>\n",
              "      <th>gill-attachment</th>\n",
              "      <th>gill-spacing</th>\n",
              "      <th>gill-size</th>\n",
              "      <th>gill-color</th>\n",
              "      <th>...</th>\n",
              "      <th>stalk-surface-below-ring</th>\n",
              "      <th>stalk-color-above-ring</th>\n",
              "      <th>stalk-color-below-ring</th>\n",
              "      <th>veil-type</th>\n",
              "      <th>veil-color</th>\n",
              "      <th>ring-number</th>\n",
              "      <th>ring-type</th>\n",
              "      <th>spore-print-color</th>\n",
              "      <th>population</th>\n",
              "      <th>habitat</th>\n",
              "    </tr>\n",
              "  </thead>\n",
              "  <tbody>\n",
              "    <tr>\n",
              "      <th>0</th>\n",
              "      <td>p</td>\n",
              "      <td>x</td>\n",
              "      <td>s</td>\n",
              "      <td>n</td>\n",
              "      <td>t</td>\n",
              "      <td>p</td>\n",
              "      <td>f</td>\n",
              "      <td>c</td>\n",
              "      <td>n</td>\n",
              "      <td>k</td>\n",
              "      <td>...</td>\n",
              "      <td>s</td>\n",
              "      <td>w</td>\n",
              "      <td>w</td>\n",
              "      <td>p</td>\n",
              "      <td>w</td>\n",
              "      <td>o</td>\n",
              "      <td>p</td>\n",
              "      <td>k</td>\n",
              "      <td>s</td>\n",
              "      <td>u</td>\n",
              "    </tr>\n",
              "    <tr>\n",
              "      <th>1</th>\n",
              "      <td>e</td>\n",
              "      <td>x</td>\n",
              "      <td>s</td>\n",
              "      <td>y</td>\n",
              "      <td>t</td>\n",
              "      <td>a</td>\n",
              "      <td>f</td>\n",
              "      <td>c</td>\n",
              "      <td>b</td>\n",
              "      <td>k</td>\n",
              "      <td>...</td>\n",
              "      <td>s</td>\n",
              "      <td>w</td>\n",
              "      <td>w</td>\n",
              "      <td>p</td>\n",
              "      <td>w</td>\n",
              "      <td>o</td>\n",
              "      <td>p</td>\n",
              "      <td>n</td>\n",
              "      <td>n</td>\n",
              "      <td>g</td>\n",
              "    </tr>\n",
              "    <tr>\n",
              "      <th>2</th>\n",
              "      <td>e</td>\n",
              "      <td>b</td>\n",
              "      <td>s</td>\n",
              "      <td>w</td>\n",
              "      <td>t</td>\n",
              "      <td>l</td>\n",
              "      <td>f</td>\n",
              "      <td>c</td>\n",
              "      <td>b</td>\n",
              "      <td>n</td>\n",
              "      <td>...</td>\n",
              "      <td>s</td>\n",
              "      <td>w</td>\n",
              "      <td>w</td>\n",
              "      <td>p</td>\n",
              "      <td>w</td>\n",
              "      <td>o</td>\n",
              "      <td>p</td>\n",
              "      <td>n</td>\n",
              "      <td>n</td>\n",
              "      <td>m</td>\n",
              "    </tr>\n",
              "    <tr>\n",
              "      <th>3</th>\n",
              "      <td>p</td>\n",
              "      <td>x</td>\n",
              "      <td>y</td>\n",
              "      <td>w</td>\n",
              "      <td>t</td>\n",
              "      <td>p</td>\n",
              "      <td>f</td>\n",
              "      <td>c</td>\n",
              "      <td>n</td>\n",
              "      <td>n</td>\n",
              "      <td>...</td>\n",
              "      <td>s</td>\n",
              "      <td>w</td>\n",
              "      <td>w</td>\n",
              "      <td>p</td>\n",
              "      <td>w</td>\n",
              "      <td>o</td>\n",
              "      <td>p</td>\n",
              "      <td>k</td>\n",
              "      <td>s</td>\n",
              "      <td>u</td>\n",
              "    </tr>\n",
              "    <tr>\n",
              "      <th>4</th>\n",
              "      <td>e</td>\n",
              "      <td>x</td>\n",
              "      <td>s</td>\n",
              "      <td>g</td>\n",
              "      <td>f</td>\n",
              "      <td>n</td>\n",
              "      <td>f</td>\n",
              "      <td>w</td>\n",
              "      <td>b</td>\n",
              "      <td>k</td>\n",
              "      <td>...</td>\n",
              "      <td>s</td>\n",
              "      <td>w</td>\n",
              "      <td>w</td>\n",
              "      <td>p</td>\n",
              "      <td>w</td>\n",
              "      <td>o</td>\n",
              "      <td>e</td>\n",
              "      <td>n</td>\n",
              "      <td>a</td>\n",
              "      <td>g</td>\n",
              "    </tr>\n",
              "  </tbody>\n",
              "</table>\n",
              "<p>5 rows × 23 columns</p>\n",
              "</div>"
            ],
            "text/plain": [
              "  class cap-shape cap-surface cap-color bruises odor gill-attachment  \\\n",
              "0     p         x           s         n       t    p               f   \n",
              "1     e         x           s         y       t    a               f   \n",
              "2     e         b           s         w       t    l               f   \n",
              "3     p         x           y         w       t    p               f   \n",
              "4     e         x           s         g       f    n               f   \n",
              "\n",
              "  gill-spacing gill-size gill-color  ... stalk-surface-below-ring  \\\n",
              "0            c         n          k  ...                        s   \n",
              "1            c         b          k  ...                        s   \n",
              "2            c         b          n  ...                        s   \n",
              "3            c         n          n  ...                        s   \n",
              "4            w         b          k  ...                        s   \n",
              "\n",
              "  stalk-color-above-ring stalk-color-below-ring veil-type veil-color  \\\n",
              "0                      w                      w         p          w   \n",
              "1                      w                      w         p          w   \n",
              "2                      w                      w         p          w   \n",
              "3                      w                      w         p          w   \n",
              "4                      w                      w         p          w   \n",
              "\n",
              "  ring-number ring-type spore-print-color population habitat  \n",
              "0           o         p                 k          s       u  \n",
              "1           o         p                 n          n       g  \n",
              "2           o         p                 n          n       m  \n",
              "3           o         p                 k          s       u  \n",
              "4           o         e                 n          a       g  \n",
              "\n",
              "[5 rows x 23 columns]"
            ]
          },
          "execution_count": 4,
          "metadata": {},
          "output_type": "execute_result"
        }
      ],
      "source": [
        "data.head()\n",
        "# data.info()\n",
        "# data.describe()"
      ]
    },
    {
      "cell_type": "markdown",
      "id": "94de7965-f8b9-4fdc-a1b9-127fa1eefdb3",
      "metadata": {
        "id": "94de7965-f8b9-4fdc-a1b9-127fa1eefdb3"
      },
      "source": [
        "<span style=\"color: red\"> TODO:</span> Display the number of edible (class 0) and poisonous (class 1) mushrooms, possibly as a histogram."
      ]
    },
    {
      "cell_type": "code",
      "execution_count": null,
      "id": "65aace30-553e-4d2d-852c-39c9afa3cc8d",
      "metadata": {
        "id": "65aace30-553e-4d2d-852c-39c9afa3cc8d",
        "outputId": "7ff77090-72c0-4c9e-abcb-a10644949067"
      },
      "outputs": [
        {
          "data": {
            "image/png": "[encoded data removed]",
            "text/plain": [
              "<Figure size 640x480 with 1 Axes>"
            ]
          },
          "metadata": {},
          "output_type": "display_data"
        }
      ],
      "source": [
        "data['class'].value_counts().plot(kind='bar', color=[\"skyblue\", \"salmon\"])\n",
        "plt.title(\"Proportion of each class in the database\")\n",
        "plt.xlabel(\"Class\")\n",
        "plt.ylabel(\"Number of occurrences\")\n",
        "plt.xticks([0, 1], ['Edible', 'Toxic'], rotation=0);"
      ]
    },
    {
      "cell_type": "markdown",
      "id": "7f3c4466-1cdc-4349-beca-28595e3dd591",
      "metadata": {
        "id": "7f3c4466-1cdc-4349-beca-28595e3dd591"
      },
      "source": [
        "## 2. Data pre-processing\n",
        "\n",
        "We separate the labels from the characteristics, then separate our dataset into a training database and a test database."
      ]
    },
    {
      "cell_type": "code",
      "execution_count": null,
      "id": "fc62d0ff-18ed-43b0-89e9-401a86bc9989",
      "metadata": {
        "id": "fc62d0ff-18ed-43b0-89e9-401a86bc9989"
      },
      "outputs": [],
      "source": [
        "X = data.drop(\"class\", axis=1)\n",
        "y = data[\"class\"]"
      ]
    },
    {
      "cell_type": "markdown",
      "id": "9feac323-aba6-4e5c-a12a-e1c1999e1a80",
      "metadata": {
        "id": "9feac323-aba6-4e5c-a12a-e1c1999e1a80"
      },
      "source": [
        "The data contains many categorical variables. This means that some variables are described by labels (e.g. hat colour) rather than by continuous numerical values (e.g. stem length). Similarly, labels are described by a letter (\"p\" for \"poisonous\" and \"e\" for \"edible\").\n",
        "However, most machine learning models require continuous or discrete numerical input values.\n",
        "\n",
        "In the case of labels, given that there are only two different labels, all we have to do is convert the labels into \"0\" and \"1\". We arbitrarily choose \"e\" --> 0 and \"p\" --> 1. This method is called __Label Encoding__.\n",
        "\n",
        "In the case of variables, most are represented by more than two labels. For example, there are 6 different colours for the hat in the database. You can't simply convert the labels into integers from 1 to 6 at the risk of introducing a hierarchy in the colours, which could bias the model. Another method of avoiding this pitfall is to convert the categorical variable with N distinct labels into N binary variables: 1 if the characteristic is present, 0 otherwise. This is called __One-Hot Encoding__.\n",
        "\n",
        "For example: we have a `Colour` variable which can take 3 different values: `red`, `green`, `blue`. To one-hot encode this variable, we first convert the labels `red`,`green`, `blue` into integers `[0,1,2]`. Then we create 3 binary variables `Red_colour`, `Green_colour`, `Blue_colour`: 1 if the variable corresponds to the colour indicated by the variable name, 0 otherwise. Finally, if all the possible colours are described by these variables, we arbitrarily delete one of the 3 variables, taking the view that if 2 of the variables are 0, then it must be the 3rd colour. This is the trap of dummy variables__."
      ]
    },
    {
      "cell_type": "code",
      "execution_count": null,
      "id": "38b2211f-c440-465d-840b-5f52832d5505",
      "metadata": {
        "id": "38b2211f-c440-465d-840b-5f52832d5505",
        "outputId": "6779abcf-4165-4a07-82df-c4c9b518b9f2"
      },
      "outputs": [
        {
          "data": {
            "text/html": [
              "<div>\n",
              "<style scoped>\n",
              "    .dataframe tbody tr th:only-of-type {\n",
              "        vertical-align: middle;\n",
              "    }\n",
              "\n",
              "    .dataframe tbody tr th {\n",
              "        vertical-align: top;\n",
              "    }\n",
              "\n",
              "    .dataframe thead th {\n",
              "        text-align: right;\n",
              "    }\n",
              "</style>\n",
              "<table border=\"1\" class=\"dataframe\">\n",
              "  <thead>\n",
              "    <tr style=\"text-align: right;\">\n",
              "      <th></th>\n",
              "      <th>cap-shape_c</th>\n",
              "      <th>cap-shape_f</th>\n",
              "      <th>cap-shape_k</th>\n",
              "      <th>cap-shape_s</th>\n",
              "      <th>cap-shape_x</th>\n",
              "      <th>cap-surface_g</th>\n",
              "      <th>cap-surface_s</th>\n",
              "      <th>cap-surface_y</th>\n",
              "      <th>cap-color_c</th>\n",
              "      <th>cap-color_e</th>\n",
              "      <th>...</th>\n",
              "      <th>population_n</th>\n",
              "      <th>population_s</th>\n",
              "      <th>population_v</th>\n",
              "      <th>population_y</th>\n",
              "      <th>habitat_g</th>\n",
              "      <th>habitat_l</th>\n",
              "      <th>habitat_m</th>\n",
              "      <th>habitat_p</th>\n",
              "      <th>habitat_u</th>\n",
              "      <th>habitat_w</th>\n",
              "    </tr>\n",
              "  </thead>\n",
              "  <tbody>\n",
              "    <tr>\n",
              "      <th>0</th>\n",
              "      <td>0</td>\n",
              "      <td>0</td>\n",
              "      <td>0</td>\n",
              "      <td>0</td>\n",
              "      <td>1</td>\n",
              "      <td>0</td>\n",
              "      <td>1</td>\n",
              "      <td>0</td>\n",
              "      <td>0</td>\n",
              "      <td>0</td>\n",
              "      <td>...</td>\n",
              "      <td>0</td>\n",
              "      <td>1</td>\n",
              "      <td>0</td>\n",
              "      <td>0</td>\n",
              "      <td>0</td>\n",
              "      <td>0</td>\n",
              "      <td>0</td>\n",
              "      <td>0</td>\n",
              "      <td>1</td>\n",
              "      <td>0</td>\n",
              "    </tr>\n",
              "    <tr>\n",
              "      <th>1</th>\n",
              "      <td>0</td>\n",
              "      <td>0</td>\n",
              "      <td>0</td>\n",
              "      <td>0</td>\n",
              "      <td>1</td>\n",
              "      <td>0</td>\n",
              "      <td>1</td>\n",
              "      <td>0</td>\n",
              "      <td>0</td>\n",
              "      <td>0</td>\n",
              "      <td>...</td>\n",
              "      <td>1</td>\n",
              "      <td>0</td>\n",
              "      <td>0</td>\n",
              "      <td>0</td>\n",
              "      <td>1</td>\n",
              "      <td>0</td>\n",
              "      <td>0</td>\n",
              "      <td>0</td>\n",
              "      <td>0</td>\n",
              "      <td>0</td>\n",
              "    </tr>\n",
              "    <tr>\n",
              "      <th>2</th>\n",
              "      <td>0</td>\n",
              "      <td>0</td>\n",
              "      <td>0</td>\n",
              "      <td>0</td>\n",
              "      <td>0</td>\n",
              "      <td>0</td>\n",
              "      <td>1</td>\n",
              "      <td>0</td>\n",
              "      <td>0</td>\n",
              "      <td>0</td>\n",
              "      <td>...</td>\n",
              "      <td>1</td>\n",
              "      <td>0</td>\n",
              "      <td>0</td>\n",
              "      <td>0</td>\n",
              "      <td>0</td>\n",
              "      <td>0</td>\n",
              "      <td>1</td>\n",
              "      <td>0</td>\n",
              "      <td>0</td>\n",
              "      <td>0</td>\n",
              "    </tr>\n",
              "    <tr>\n",
              "      <th>3</th>\n",
              "      <td>0</td>\n",
              "      <td>0</td>\n",
              "      <td>0</td>\n",
              "      <td>0</td>\n",
              "      <td>1</td>\n",
              "      <td>0</td>\n",
              "      <td>0</td>\n",
              "      <td>1</td>\n",
              "      <td>0</td>\n",
              "      <td>0</td>\n",
              "      <td>...</td>\n",
              "      <td>0</td>\n",
              "      <td>1</td>\n",
              "      <td>0</td>\n",
              "      <td>0</td>\n",
              "      <td>0</td>\n",
              "      <td>0</td>\n",
              "      <td>0</td>\n",
              "      <td>0</td>\n",
              "      <td>1</td>\n",
              "      <td>0</td>\n",
              "    </tr>\n",
              "    <tr>\n",
              "      <th>4</th>\n",
              "      <td>0</td>\n",
              "      <td>0</td>\n",
              "      <td>0</td>\n",
              "      <td>0</td>\n",
              "      <td>1</td>\n",
              "      <td>0</td>\n",
              "      <td>1</td>\n",
              "      <td>0</td>\n",
              "      <td>0</td>\n",
              "      <td>0</td>\n",
              "      <td>...</td>\n",
              "      <td>0</td>\n",
              "      <td>0</td>\n",
              "      <td>0</td>\n",
              "      <td>0</td>\n",
              "      <td>1</td>\n",
              "      <td>0</td>\n",
              "      <td>0</td>\n",
              "      <td>0</td>\n",
              "      <td>0</td>\n",
              "      <td>0</td>\n",
              "    </tr>\n",
              "    <tr>\n",
              "      <th>...</th>\n",
              "      <td>...</td>\n",
              "      <td>...</td>\n",
              "      <td>...</td>\n",
              "      <td>...</td>\n",
              "      <td>...</td>\n",
              "      <td>...</td>\n",
              "      <td>...</td>\n",
              "      <td>...</td>\n",
              "      <td>...</td>\n",
              "      <td>...</td>\n",
              "      <td>...</td>\n",
              "      <td>...</td>\n",
              "      <td>...</td>\n",
              "      <td>...</td>\n",
              "      <td>...</td>\n",
              "      <td>...</td>\n",
              "      <td>...</td>\n",
              "      <td>...</td>\n",
              "      <td>...</td>\n",
              "      <td>...</td>\n",
              "      <td>...</td>\n",
              "    </tr>\n",
              "    <tr>\n",
              "      <th>8119</th>\n",
              "      <td>0</td>\n",
              "      <td>0</td>\n",
              "      <td>1</td>\n",
              "      <td>0</td>\n",
              "      <td>0</td>\n",
              "      <td>0</td>\n",
              "      <td>1</td>\n",
              "      <td>0</td>\n",
              "      <td>0</td>\n",
              "      <td>0</td>\n",
              "      <td>...</td>\n",
              "      <td>0</td>\n",
              "      <td>0</td>\n",
              "      <td>0</td>\n",
              "      <td>0</td>\n",
              "      <td>0</td>\n",
              "      <td>1</td>\n",
              "      <td>0</td>\n",
              "      <td>0</td>\n",
              "      <td>0</td>\n",
              "      <td>0</td>\n",
              "    </tr>\n",
              "    <tr>\n",
              "      <th>8120</th>\n",
              "      <td>0</td>\n",
              "      <td>0</td>\n",
              "      <td>0</td>\n",
              "      <td>0</td>\n",
              "      <td>1</td>\n",
              "      <td>0</td>\n",
              "      <td>1</td>\n",
              "      <td>0</td>\n",
              "      <td>0</td>\n",
              "      <td>0</td>\n",
              "      <td>...</td>\n",
              "      <td>0</td>\n",
              "      <td>0</td>\n",
              "      <td>1</td>\n",
              "      <td>0</td>\n",
              "      <td>0</td>\n",
              "      <td>1</td>\n",
              "      <td>0</td>\n",
              "      <td>0</td>\n",
              "      <td>0</td>\n",
              "      <td>0</td>\n",
              "    </tr>\n",
              "    <tr>\n",
              "      <th>8121</th>\n",
              "      <td>0</td>\n",
              "      <td>1</td>\n",
              "      <td>0</td>\n",
              "      <td>0</td>\n",
              "      <td>0</td>\n",
              "      <td>0</td>\n",
              "      <td>1</td>\n",
              "      <td>0</td>\n",
              "      <td>0</td>\n",
              "      <td>0</td>\n",
              "      <td>...</td>\n",
              "      <td>0</td>\n",
              "      <td>0</td>\n",
              "      <td>0</td>\n",
              "      <td>0</td>\n",
              "      <td>0</td>\n",
              "      <td>1</td>\n",
              "      <td>0</td>\n",
              "      <td>0</td>\n",
              "      <td>0</td>\n",
              "      <td>0</td>\n",
              "    </tr>\n",
              "    <tr>\n",
              "      <th>8122</th>\n",
              "      <td>0</td>\n",
              "      <td>0</td>\n",
              "      <td>1</td>\n",
              "      <td>0</td>\n",
              "      <td>0</td>\n",
              "      <td>0</td>\n",
              "      <td>0</td>\n",
              "      <td>1</td>\n",
              "      <td>0</td>\n",
              "      <td>0</td>\n",
              "      <td>...</td>\n",
              "      <td>0</td>\n",
              "      <td>0</td>\n",
              "      <td>1</td>\n",
              "      <td>0</td>\n",
              "      <td>0</td>\n",
              "      <td>1</td>\n",
              "      <td>0</td>\n",
              "      <td>0</td>\n",
              "      <td>0</td>\n",
              "      <td>0</td>\n",
              "    </tr>\n",
              "    <tr>\n",
              "      <th>8123</th>\n",
              "      <td>0</td>\n",
              "      <td>0</td>\n",
              "      <td>0</td>\n",
              "      <td>0</td>\n",
              "      <td>1</td>\n",
              "      <td>0</td>\n",
              "      <td>1</td>\n",
              "      <td>0</td>\n",
              "      <td>0</td>\n",
              "      <td>0</td>\n",
              "      <td>...</td>\n",
              "      <td>0</td>\n",
              "      <td>0</td>\n",
              "      <td>0</td>\n",
              "      <td>0</td>\n",
              "      <td>0</td>\n",
              "      <td>1</td>\n",
              "      <td>0</td>\n",
              "      <td>0</td>\n",
              "      <td>0</td>\n",
              "      <td>0</td>\n",
              "    </tr>\n",
              "  </tbody>\n",
              "</table>\n",
              "<p>8124 rows × 95 columns</p>\n",
              "</div>"
            ],
            "text/plain": [
              "      cap-shape_c  cap-shape_f  cap-shape_k  cap-shape_s  cap-shape_x  \\\n",
              "0               0            0            0            0            1   \n",
              "1               0            0            0            0            1   \n",
              "2               0            0            0            0            0   \n",
              "3               0            0            0            0            1   \n",
              "4               0            0            0            0            1   \n",
              "...           ...          ...          ...          ...          ...   \n",
              "8119            0            0            1            0            0   \n",
              "8120            0            0            0            0            1   \n",
              "8121            0            1            0            0            0   \n",
              "8122            0            0            1            0            0   \n",
              "8123            0            0            0            0            1   \n",
              "\n",
              "      cap-surface_g  cap-surface_s  cap-surface_y  cap-color_c  cap-color_e  \\\n",
              "0                 0              1              0            0            0   \n",
              "1                 0              1              0            0            0   \n",
              "2                 0              1              0            0            0   \n",
              "3                 0              0              1            0            0   \n",
              "4                 0              1              0            0            0   \n",
              "...             ...            ...            ...          ...          ...   \n",
              "8119              0              1              0            0            0   \n",
              "8120              0              1              0            0            0   \n",
              "8121              0              1              0            0            0   \n",
              "8122              0              0              1            0            0   \n",
              "8123              0              1              0            0            0   \n",
              "\n",
              "      ...  population_n  population_s  population_v  population_y  habitat_g  \\\n",
              "0     ...             0             1             0             0          0   \n",
              "1     ...             1             0             0             0          1   \n",
              "2     ...             1             0             0             0          0   \n",
              "3     ...             0             1             0             0          0   \n",
              "4     ...             0             0             0             0          1   \n",
              "...   ...           ...           ...           ...           ...        ...   \n",
              "8119  ...             0             0             0             0          0   \n",
              "8120  ...             0             0             1             0          0   \n",
              "8121  ...             0             0             0             0          0   \n",
              "8122  ...             0             0             1             0          0   \n",
              "8123  ...             0             0             0             0          0   \n",
              "\n",
              "      habitat_l  habitat_m  habitat_p  habitat_u  habitat_w  \n",
              "0             0          0          0          1          0  \n",
              "1             0          0          0          0          0  \n",
              "2             0          1          0          0          0  \n",
              "3             0          0          0          1          0  \n",
              "4             0          0          0          0          0  \n",
              "...         ...        ...        ...        ...        ...  \n",
              "8119          1          0          0          0          0  \n",
              "8120          1          0          0          0          0  \n",
              "8121          1          0          0          0          0  \n",
              "8122          1          0          0          0          0  \n",
              "8123          1          0          0          0          0  \n",
              "\n",
              "[8124 rows x 95 columns]"
            ]
          },
          "execution_count": 7,
          "metadata": {},
          "output_type": "execute_result"
        }
      ],
      "source": [
        "from sklearn.preprocessing import LabelEncoder\n",
        "\n",
        "label_encoder = LabelEncoder()\n",
        "y = label_encoder.fit_transform(y) # Application du label encoding aux labels\n",
        "\n",
        "X = pd.get_dummies(X, drop_first=True, dtype=int) # Application du one-hot encoding aux variables catégorielles + on retire la première variable crée pour éviter le piège des dummy variables\n",
        "X"
      ]
    },
    {
      "cell_type": "markdown",
      "id": "3050d95d-6232-4707-a4f2-7d324e43d0d8",
      "metadata": {
        "id": "3050d95d-6232-4707-a4f2-7d324e43d0d8"
      },
      "source": [
        "<span style=\"color: red\"> TODO:</span> Display the new number of variables."
      ]
    },
    {
      "cell_type": "code",
      "execution_count": null,
      "id": "6b96e3ea-2475-486a-9261-4d686d6d7b65",
      "metadata": {
        "id": "6b96e3ea-2475-486a-9261-4d686d6d7b65",
        "outputId": "be5f5811-9485-42b9-f2f0-14a536d5513c"
      },
      "outputs": [
        {
          "name": "stdout",
          "output_type": "stream",
          "text": [
            "Variable name = 95\n"
          ]
        }
      ],
      "source": [
        "print(\"Variable name =\", len(X.columns))"
      ]
    },
    {
      "cell_type": "markdown",
      "id": "7a960757-d95b-434e-b3a7-0942729d9cc8",
      "metadata": {
        "id": "7a960757-d95b-434e-b3a7-0942729d9cc8"
      },
      "source": [
        "## 3. Learning an ML model for edible/toxic classification with all variables\n",
        "\n",
        "In this section, we learn different ML models from the Scikit-Learn library to classify mushrooms as edible or toxic.\n",
        "\n",
        "We start by separating the database into a training database, a validation database and a test database, taking care to maintain the proportion of each class in each sub-database (`stratify=y`)."
      ]
    },
    {
      "cell_type": "code",
      "execution_count": null,
      "id": "61d5cf91-4efa-4ff1-aef7-7eccc006ffd1",
      "metadata": {
        "id": "61d5cf91-4efa-4ff1-aef7-7eccc006ffd1"
      },
      "outputs": [],
      "source": [
        "X_train, X_test, y_train, y_test = train_test_split(X, y, test_size=0.2, stratify=y, shuffle=True, random_state=42)"
      ]
    },
    {
      "cell_type": "markdown",
      "id": "171ed022-1acd-486f-bd47-7a388d0d56bb",
      "metadata": {
        "id": "171ed022-1acd-486f-bd47-7a388d0d56bb"
      },
      "source": [
        "<span style=\"color: red\"> TODO:</span> Train the following ML models with the training base: [RandomForest](https://scikit-learn.org/stable/modules/generated/sklearn.ensemble.RandomForestClassifier.html) and [LogisticRegression](https://scikit-learn.org/stable/modules/generated/sklearn.linear_model.LogisticRegression.html). We will optimise the main parameters by cross-validation ([GridSearchCV](https://scikit-learn.org/dev/modules/generated/sklearn.model_selection.GridSearchCV.html)) on the training base, and then display the performance of the optimised model on the test base. We will choose accuracy as the metric."
      ]
    },
    {
      "cell_type": "code",
      "execution_count": null,
      "id": "d7e386c4-687b-4e09-819d-957b21df9e3c",
      "metadata": {
        "id": "d7e386c4-687b-4e09-819d-957b21df9e3c"
      },
      "outputs": [],
      "source": [
        "from sklearn.ensemble import RandomForestClassifier\n",
        "from sklearn.linear_model import LogisticRegression\n",
        "from sklearn.model_selection import GridSearchCV\n",
        "from sklearn.metrics import accuracy_score"
      ]
    },
    {
      "cell_type": "markdown",
      "id": "ae9ef6ec-2c59-4884-a2b1-0128599c12d3",
      "metadata": {
        "id": "ae9ef6ec-2c59-4884-a2b1-0128599c12d3"
      },
      "source": [
        "### 3.1 Random Forest"
      ]
    },
    {
      "cell_type": "code",
      "execution_count": null,
      "id": "1ebf04a1-3e44-4e70-a6b1-a15f53338c34",
      "metadata": {
        "id": "1ebf04a1-3e44-4e70-a6b1-a15f53338c34"
      },
      "outputs": [],
      "source": [
        "rf = RandomForestClassifier(random_state=42)"
      ]
    },
    {
      "cell_type": "code",
      "execution_count": null,
      "id": "a1b80e69-83a8-4eef-a486-8720f67e35a0",
      "metadata": {
        "id": "a1b80e69-83a8-4eef-a486-8720f67e35a0"
      },
      "outputs": [],
      "source": [
        "params_rf = {\n",
        "    'n_estimators': range(10, 200, 20)\n",
        "}\n",
        "\n",
        "optimizer_rf = GridSearchCV(estimator = rf, param_grid = params_rf, scoring = 'accuracy', cv = 3)\n",
        "optimizer_rf_fit = optimizer_rf.fit(X_train, y_train)"
      ]
    },
    {
      "cell_type": "code",
      "execution_count": null,
      "id": "689324d5-144e-4de5-9328-a62b351835c3",
      "metadata": {
        "id": "689324d5-144e-4de5-9328-a62b351835c3",
        "outputId": "949fae7f-f097-4387-bdc8-f6ea4921b36d"
      },
      "outputs": [
        {
          "name": "stdout",
          "output_type": "stream",
          "text": [
            "RandomForestClassifier(n_estimators=10, random_state=42)\n",
            "Mean accuracy of the best model : 0.9992308875557606\n"
          ]
        }
      ],
      "source": [
        "best_rf = optimizer_rf_fit.best_estimator_\n",
        "print(best_rf)\n",
        "print(\"Mean accuracy of the best model :\", optimizer_rf_fit.best_score_)"
      ]
    },
    {
      "cell_type": "code",
      "execution_count": null,
      "id": "51ebfceb-6730-423d-8319-dedb0a2a9f5b",
      "metadata": {
        "id": "51ebfceb-6730-423d-8319-dedb0a2a9f5b",
        "outputId": "16f234bf-e44b-4a4c-dbea-c8002b91a906"
      },
      "outputs": [
        {
          "name": "stdout",
          "output_type": "stream",
          "text": [
            "Accuracy on the test set : 1.0\n"
          ]
        }
      ],
      "source": [
        "y_pred_rf = best_rf.predict(X_test)\n",
        "print(\"Accuracy on the test set :\", accuracy_score(y_test, y_pred_rf))"
      ]
    },
    {
      "cell_type": "markdown",
      "id": "fa04de46-e9c6-410b-a04f-2422a046fef1",
      "metadata": {
        "id": "fa04de46-e9c6-410b-a04f-2422a046fef1"
      },
      "source": [
        "### 3.2 Logistic Regression"
      ]
    },
    {
      "cell_type": "code",
      "execution_count": null,
      "id": "6d3d04a6-b1ac-4a99-a017-487a9f9c71b1",
      "metadata": {
        "id": "6d3d04a6-b1ac-4a99-a017-487a9f9c71b1"
      },
      "outputs": [],
      "source": [
        "lr = LogisticRegression(random_state=42, max_iter=1000)"
      ]
    },
    {
      "cell_type": "code",
      "execution_count": null,
      "id": "1a8a320b-941b-4319-9710-0b67c6f992a8",
      "metadata": {
        "id": "1a8a320b-941b-4319-9710-0b67c6f992a8"
      },
      "outputs": [],
      "source": [
        "params_lr = {\n",
        "    'C': [0.1, 1, 10, 100],\n",
        "}\n",
        "\n",
        "optimizer_lr = GridSearchCV(estimator = lr, param_grid = params_lr, scoring = 'accuracy', cv = 3)\n",
        "optimizer_lr_fit = optimizer_lr.fit(X_train, y_train)"
      ]
    },
    {
      "cell_type": "code",
      "execution_count": null,
      "id": "eb5962ac-0160-4f00-865b-ce016c63b1fe",
      "metadata": {
        "id": "eb5962ac-0160-4f00-865b-ce016c63b1fe",
        "outputId": "83a2dfb3-e753-4923-f8de-1e4618e61f19"
      },
      "outputs": [
        {
          "name": "stdout",
          "output_type": "stream",
          "text": [
            "LogisticRegression(C=1, max_iter=1000, random_state=42)\n",
            "Mean accuracy of the best model : 0.9992308875557606\n"
          ]
        }
      ],
      "source": [
        "best_lr = optimizer_lr_fit.best_estimator_\n",
        "print(best_lr)\n",
        "print(\"Mean accuracy of the best model :\", optimizer_lr_fit.best_score_)"
      ]
    },
    {
      "cell_type": "code",
      "execution_count": null,
      "id": "c85a1929-cac2-4fbb-a1aa-37296cbcc598",
      "metadata": {
        "id": "c85a1929-cac2-4fbb-a1aa-37296cbcc598",
        "outputId": "948b80b1-7e66-4b0c-b7e3-4a06127d8a85"
      },
      "outputs": [
        {
          "name": "stdout",
          "output_type": "stream",
          "text": [
            "Accuracy on the test set : 0.9987692307692307\n"
          ]
        }
      ],
      "source": [
        "y_pred_lr = best_lr.predict(X_test)\n",
        "print(\"Accuracy on the test set :\", accuracy_score(y_test, y_pred_lr))"
      ]
    },
    {
      "cell_type": "markdown",
      "id": "b7fabb19-ebe7-4027-ae1a-e931eb833402",
      "metadata": {
        "id": "b7fabb19-ebe7-4027-ae1a-e931eb833402"
      },
      "source": [
        "<span style=\"color: red\"> Question:</span> comment on the results obtained. Which model do you choose? Why or why not?\n",
        "\n",
        "<span style=\"color: blue\"> Answer:</span> Both models achieve similar performances on the test. But the random forest is 100% accuracy so it seems to be the best one.\n"
      ]
    },
    {
      "cell_type": "markdown",
      "id": "a14c2534-6131-4ad5-9f7a-a14750eed5b3",
      "metadata": {
        "id": "a14c2534-6131-4ad5-9f7a-a14750eed5b3"
      },
      "source": [
        "## 4 - Study of model explainability\n",
        "\n",
        "The explicability of an ML model refers to the ability to understand and interpret a decision/prediction made by a model. Explanability is fundamental in several respects: the confidence we can have in a model, the transparency of the model, its conformity and, of course, for ethical reasons.\n",
        "\n",
        "In this section, we will study the influence of the different variables in the database on the decision-making of a model, and question the explicability and interpretability of models.\n",
        "\n",
        "### 4.1 Random Forest\n",
        "\n",
        "When a random forest is trained, the model calculates and stores the importance of characteristics, such as the average drop in impurity allowed by the use of the characteristic. These importances show which features are most important in the model's decision-making, but their value does not indicate whether these features have a positive or negative influence on decision-making. They are accessible in the `feature_importances_` field of the trained model.\n",
        "\n",
        "<span style=\"color: red\"> TODO:</span> Display the importance of the features by completing the code below."
      ]
    },
    {
      "cell_type": "code",
      "execution_count": null,
      "id": "6157c20a-9c94-41bd-8663-975952147770",
      "metadata": {
        "id": "6157c20a-9c94-41bd-8663-975952147770",
        "outputId": "1fb76307-b191-4824-8bed-7269a453e665"
      },
      "outputs": [
        {
          "data": {
            "image/png": "[encoded data removed]",
            "text/plain": [
              "<Figure size 1000x500 with 1 Axes>"
            ]
          },
          "metadata": {},
          "output_type": "display_data"
        }
      ],
      "source": [
        "feature_importance_df = pd.DataFrame({'feature_importance': best_rf.feature_importances_, 'feature_name': X_train.columns})\n",
        "feature_importance_df.sort_values('feature_importance', ascending = False, inplace=True)\n",
        "plt.figure(figsize=(10, 5))\n",
        "sns.barplot(feature_importance_df.head(10), x=\"feature_name\", y=\"feature_importance\")\n",
        "plt.xticks(rotation=90);"
      ]
    },
    {
      "cell_type": "markdown",
      "id": "3da5203a-3d05-4095-9c98-abbd02da8503",
      "metadata": {
        "id": "3da5203a-3d05-4095-9c98-abbd02da8503"
      },
      "source": [
        "### 4.2 Logistic Regression\n",
        "\n",
        "The __odds ratios__ in a logistic regression measure the effect of a variation in a characteristic on the probability of the target event (here, toxic or not), by comparing the odds of an event between two different values of this feature. The odds ratio is obtained by exponentiating the coefficients of the logistic regression. If an odds ratio is greater than 1, this means that an increase in the variable corresponds to an increase in the chances of the event occurring, and vice versa for a coefficient less than 1. The comparison is made in relation to the category that was removed during the one-hot encoding of the categorical variables (`drop_first=True`).\n",
        "\n",
        "As explained above, the feature importances in a Random Forest represent the contribution of each feature to the reduction of the impurity (for example, the Gini index or the entropy) in the decision trees. Unlike odds ratios, which are specific to each coefficient in the logistic regression and depend directly on the units of the variables, Random Forest feature importances are relative scores indicating the importance of a feature in the overall model, independently of the form of the variables. They should not therefore be confused or compared.\n",
        "\n",
        "<span style=\"color: red\"> TODO:</span> Display the odds ratios of the features by completing the code below."
      ]
    },
    {
      "cell_type": "code",
      "execution_count": null,
      "id": "57e7c3f0-5710-4bbe-bdef-120ef47439cc",
      "metadata": {
        "id": "57e7c3f0-5710-4bbe-bdef-120ef47439cc",
        "outputId": "aceb8197-f8ec-4158-9f16-4ae02a451a96"
      },
      "outputs": [
        {
          "data": {
            "image/png": "[encoded data removed]",
            "text/plain": [
              "<Figure size 1000x500 with 1 Axes>"
            ]
          },
          "metadata": {},
          "output_type": "display_data"
        }
      ],
      "source": [
        "coefficients = best_lr.coef_[0]\n",
        "odds_ratios = np.exp(coefficients)\n",
        "feature_importance = pd.DataFrame({\n",
        "    'Feature_name': X_train.columns,\n",
        "    'Coefficient': coefficients,\n",
        "    'Odds Ratio': odds_ratios\n",
        "})\n",
        "feature_importance.sort_values(by=\"Odds Ratio\", ascending=False, inplace=True)\n",
        "plt.figure(figsize=(10, 5))\n",
        "sns.barplot(feature_importance, x=\"Feature_name\", y='Odds Ratio')\n",
        "plt.xticks(rotation=90);"
      ]
    },
    {
      "cell_type": "markdown",
      "id": "80826058-3aa9-491b-a279-42ed7cb82fe5",
      "metadata": {
        "id": "80826058-3aa9-491b-a279-42ed7cb82fe5"
      },
      "source": [
        "## 5. Reducing the number of variables\n",
        "\n",
        "Reducing the number of variables in the database is an effective way of reducing the size and consumption of an ML model: fewer calculations, less complexity, improved interpretability and explicability. It also limits overlearning. There are several ways of selecting the most relevant variables:\n",
        "\n",
        "* Filtered methods: eliminating variables with low variance, Chi-2 method, mutual information, etc.\n",
        "* Wrapped methods: evaluation of the model with subsets of variables until the best combination is found (RFE, Forward Selection, Backward Elimination).\n",
        "* Integrated methods: the most relevant variables are automatically selected when the model is trained (feature_importance, L1 regularisation, etc.).\n",
        "* Heuristic methods, dimensionality reduction: PCA, etc.\n",
        "\n",
        "In this tutorial, we are going to use three different methods: a filtered method (Chi-2 method), an enveloped method (Recursive Feature Elimination) and an integrated method (feature importance for Random Forest and L1 regularisation for Logistic Regression)."
      ]
    },
    {
      "cell_type": "markdown",
      "id": "07fac3b3-6c96-42cb-a5f5-d02c195fec6f",
      "metadata": {
        "id": "07fac3b3-6c96-42cb-a5f5-d02c195fec6f"
      },
      "source": [
        "### 5.1 Chi-2 (or Chi-Square) method\n",
        "\n"
      ]
    },
    {
      "cell_type": "markdown",
      "id": "de1defdb-6805-4401-a971-b3c972186d11",
      "metadata": {
        "id": "de1defdb-6805-4401-a971-b3c972186d11"
      },
      "source": [
        "The Chi2 method assesses the dependence between each categorical variable and the target using the χ² test. It measures whether the distribution of the values of the variable differs significantly according to the class of the sample, and retains only the variables with a strong association.\n",
        "\n",
        "<span style=\"color: red\"> TODO:</span> Complete the code below."
      ]
    },
    {
      "cell_type": "code",
      "execution_count": null,
      "id": "99923301-827f-4309-a891-f394ad202b42",
      "metadata": {
        "id": "99923301-827f-4309-a891-f394ad202b42",
        "outputId": "dd1cb144-634b-48a2-bd15-8e858a1b93d4"
      },
      "outputs": [
        {
          "name": "stdout",
          "output_type": "stream",
          "text": [
            "Selected features with Chi-2 method:\n",
            "['bruises_t' 'odor_f' 'odor_n' 'gill-size_n' 'stalk-surface-above-ring_k'\n",
            " 'stalk-surface-below-ring_k' 'ring-type_l' 'ring-type_p'\n",
            " 'spore-print-color_h' 'spore-print-color_n']\n",
            "Test accuracy score RF = 0.9778461538461538\n",
            "Test accuracy score LR = 0.976\n"
          ]
        }
      ],
      "source": [
        "from sklearn.feature_selection import SelectKBest, chi2\n",
        "\n",
        "selector_chi2 = SelectKBest(chi2, k=10)  # Garde les 10 meilleures features\n",
        "X_train_reduced_chi2 = selector_chi2.fit_transform(X_train, y_train)\n",
        "X_test_reduced_chi2 = selector_chi2.transform(X_test)\n",
        "\n",
        "print(\"Selected features with Chi-2 method:\")\n",
        "print(selector_chi2.get_feature_names_out())\n",
        "\n",
        "best_rf.fit(X_train_reduced_chi2, y_train)\n",
        "y_pred_rf_chi2 = best_rf.predict(X_test_reduced_chi2)\n",
        "print(\"Test accuracy score RF =\", accuracy_score(y_test, y_pred_rf_chi2))\n",
        "\n",
        "best_lr.fit(X_train_reduced_chi2, y_train)\n",
        "y_pred_lr_chi2 = best_lr.predict(X_test_reduced_chi2)\n",
        "print(\"Test accuracy score LR =\", accuracy_score(y_test, y_pred_lr_chi2))"
      ]
    },
    {
      "cell_type": "markdown",
      "id": "63f47d1c-435c-4cf8-9ae8-f79efefbd908",
      "metadata": {
        "id": "63f47d1c-435c-4cf8-9ae8-f79efefbd908"
      },
      "source": [
        "### 5.2 Recursive Feature Elimination (RFE)\n",
        "\n"
      ]
    },
    {
      "cell_type": "markdown",
      "id": "833dfbbd-7df1-48e3-b16b-268c332b6116",
      "metadata": {
        "id": "833dfbbd-7df1-48e3-b16b-268c332b6116"
      },
      "source": [
        "The RFE (Recursive Feature Elimination) method selects variables by training a model, assessing the importance of each variable, then iteratively eliminating the least important until the desired number of variables is reached.\n",
        "\n",
        "<span style=\"color: red\"> TODO:</span> Complete the code below."
      ]
    },
    {
      "cell_type": "code",
      "execution_count": null,
      "id": "aa9e65e6-8d10-40fe-bfda-3d0d068d3b77",
      "metadata": {
        "id": "aa9e65e6-8d10-40fe-bfda-3d0d068d3b77",
        "outputId": "33770f25-b3ae-4381-827c-c72b59717825"
      },
      "outputs": [
        {
          "name": "stdout",
          "output_type": "stream",
          "text": [
            "Selected features with RFE method:\n",
            "['bruises_t' 'odor_f' 'odor_n' 'gill-size_n' 'stalk-shape_t'\n",
            " 'stalk-root_b' 'stalk-surface-above-ring_k' 'stalk-surface-below-ring_k'\n",
            " 'ring-type_p' 'population_v']\n",
            "Accuracy score RF = 0.9969230769230769\n"
          ]
        }
      ],
      "source": [
        "from sklearn.feature_selection import RFE\n",
        "\n",
        "rf = RandomForestClassifier()\n",
        "selector_rf_rfe = RFE(rf, n_features_to_select=10)  # Garde 10 features\n",
        "X_train_rf_rfe = selector_rf_rfe.fit_transform(X_train, y_train)\n",
        "X_test_rf_rfe = selector_rf_rfe.transform(X_test)\n",
        "\n",
        "print(\"Selected features with RFE method:\")\n",
        "print(selector_rf_rfe.get_feature_names_out())\n",
        "\n",
        "best_rf.fit(X_train_rf_rfe, y_train)\n",
        "y_pred_rf_rfe = best_rf.predict(X_test_rf_rfe)\n",
        "print(\"Accuracy score RF =\", accuracy_score(y_test, y_pred_rf_rfe))"
      ]
    },
    {
      "cell_type": "code",
      "execution_count": null,
      "id": "6c9d7808-7c83-4071-bc61-ce7bd3134c1a",
      "metadata": {
        "id": "6c9d7808-7c83-4071-bc61-ce7bd3134c1a",
        "outputId": "3bf7206e-ad25-443a-adb8-f189a52c970e"
      },
      "outputs": [
        {
          "name": "stdout",
          "output_type": "stream",
          "text": [
            "Selected features with RFE method:\n",
            "['odor_c' 'odor_f' 'odor_n' 'odor_p' 'gill-size_n'\n",
            " 'stalk-surface-above-ring_k' 'spore-print-color_k' 'spore-print-color_n'\n",
            " 'spore-print-color_r' 'spore-print-color_u']\n",
            "Accuracy score LR = 0.9963076923076923\n"
          ]
        }
      ],
      "source": [
        "lr = LogisticRegression()\n",
        "selector_lr_rfe = RFE(lr, n_features_to_select=10)  # Garde 10 features\n",
        "X_train_lr_rfe = selector_lr_rfe.fit_transform(X_train, y_train)\n",
        "X_test_lr_rfe = selector_lr_rfe.transform(X_test)\n",
        "\n",
        "print(\"Selected features with RFE method:\")\n",
        "print(selector_lr_rfe.get_feature_names_out())\n",
        "\n",
        "best_lr.fit(X_train_lr_rfe, y_train)\n",
        "y_pred_lr_rfe = best_lr.predict(X_test_lr_rfe)\n",
        "print(\"Accuracy score LR =\", accuracy_score(y_test, y_pred_lr_rfe))"
      ]
    },
    {
      "cell_type": "markdown",
      "id": "35cf301d-79a3-4ee0-86f5-30d8b49fe669",
      "metadata": {
        "id": "35cf301d-79a3-4ee0-86f5-30d8b49fe669"
      },
      "source": [
        "### 5.3 Integrated method (feature importance and L1 adjustment)\n",
        "\n",
        "\n"
      ]
    },
    {
      "cell_type": "markdown",
      "id": "c3b5f8f2-0e6d-4ad2-bbe2-e0f9afcc1094",
      "metadata": {
        "id": "c3b5f8f2-0e6d-4ad2-bbe2-e0f9afcc1094"
      },
      "source": [
        "A Random Forest model calculates the importance of variables by measuring their average contribution to the reduction in impurity (such as the Gini index or entropy) at each split, then averaging these contributions over all the trees in the forest.\n",
        "\n",
        "<span style=\"color: red\"> TODO:</span> Complete the code below."
      ]
    },
    {
      "cell_type": "code",
      "execution_count": null,
      "id": "273a3c60-c358-420b-8543-048bb2e191b3",
      "metadata": {
        "id": "273a3c60-c358-420b-8543-048bb2e191b3",
        "outputId": "a8d0e089-924b-4895-e0b0-b0c67336f1c2"
      },
      "outputs": [
        {
          "name": "stdout",
          "output_type": "stream",
          "text": [
            "Selected features based on feature importance :\n",
            "Index(['bruises_t', 'odor_n', 'gill-size_n', 'stalk-surface-above-ring_k',\n",
            "       'stalk-surface-above-ring_s', 'stalk-surface-below-ring_k',\n",
            "       'spore-print-color_h', 'spore-print-color_n', 'spore-print-color_w',\n",
            "       'population_v'],\n",
            "      dtype='object')\n",
            "Accuracy score RF = 0.9796923076923076\n"
          ]
        }
      ],
      "source": [
        "X_train_feature_importance = X_train.loc[:, X_train.columns.isin(feature_importance_df.head(10).feature_name)]\n",
        "X_test_feature_importance = X_test.loc[:, X_test.columns.isin(feature_importance_df.head(10).feature_name)]\n",
        "\n",
        "print(\"Selected features based on feature importance :\")\n",
        "print(X_test_feature_importance.columns)\n",
        "\n",
        "best_rf.fit(X_train_feature_importance, y_train)\n",
        "y_pred_rf_feature_importance = best_rf.predict(X_test_feature_importance)\n",
        "print(\"Accuracy score RF =\", accuracy_score(y_test, y_pred_rf_feature_importance))"
      ]
    },
    {
      "cell_type": "markdown",
      "id": "9d80413e-afe1-4259-abc9-2cae640c8a78",
      "metadata": {
        "id": "9d80413e-afe1-4259-abc9-2cae640c8a78"
      },
      "source": [
        "The L1 regularisation in a logistic regression model imposes a penalty on the sum of the absolute values of the coefficients, which causes some coefficients to become equal to zero, thereby automatically selecting the most relevant features by eliminating those with zero coefficients.\n",
        "\n",
        "<span style=\"color: red\"> TODO:</span> Complete the code below."
      ]
    },
    {
      "cell_type": "code",
      "execution_count": null,
      "id": "943dedfb-f345-4523-a91f-07f31470757b",
      "metadata": {
        "id": "943dedfb-f345-4523-a91f-07f31470757b",
        "outputId": "b16bc820-463a-4dec-fbd2-5974ef8d451f"
      },
      "outputs": [
        {
          "name": "stdout",
          "output_type": "stream",
          "text": [
            "LogisticRegression(C=1, max_iter=1000, penalty='l1', random_state=42,\n",
            "                   solver='liblinear')\n",
            "Selected features based on L1 regularization :\n",
            "['cap-shape_x' 'cap-surface_g' 'cap-color_w' 'cap-color_y' 'odor_c'\n",
            " 'odor_f' 'odor_l' 'odor_n' 'odor_p' 'gill-spacing_w' 'gill-size_n'\n",
            " 'gill-color_n' 'stalk-root_c' 'stalk-surface-above-ring_k'\n",
            " 'stalk-surface-above-ring_s' 'stalk-surface-below-ring_s'\n",
            " 'stalk-color-above-ring_w' 'stalk-color-below-ring_n' 'veil-color_w'\n",
            " 'spore-print-color_k' 'spore-print-color_n' 'spore-print-color_r'\n",
            " 'spore-print-color_u' 'spore-print-color_w' 'population_c' 'population_y'\n",
            " 'habitat_w']\n",
            "Number of selected features : 27\n",
            "Accuracy on the test set : 1.0\n"
          ]
        }
      ],
      "source": [
        "lr = LogisticRegression(penalty=\"l1\", solver=\"liblinear\", random_state=42, max_iter=1000)\n",
        "\n",
        "params_lr = {\n",
        "    'C': [0.1, 1, 10, 100],\n",
        "}\n",
        "\n",
        "optimizer_lr = GridSearchCV(estimator = lr, param_grid = params_lr, scoring = 'accuracy', cv = 3)\n",
        "optimizer_lr_fit = optimizer_lr.fit(X_train, y_train)\n",
        "\n",
        "best_lr = optimizer_lr_fit.best_estimator_\n",
        "print(best_lr)\n",
        "\n",
        "selected_features = X_train.columns[best_lr.coef_[0]!=0].values\n",
        "print(\"Selected features based on L1 regularization :\")\n",
        "print(selected_features)\n",
        "print(\"Number of selected features :\", len(selected_features))\n",
        "\n",
        "y_pred_lr_l1 = best_lr.predict(X_test)\n",
        "print(\"Accuracy on the test set :\", accuracy_score(y_test, y_pred_lr_l1))"
      ]
    },
    {
      "cell_type": "markdown",
      "id": "c3762e8a-507f-406e-8890-bd7c694817cf",
      "metadata": {
        "id": "c3762e8a-507f-406e-8890-bd7c694817cf"
      },
      "source": [
        "<span style=\"color: red\"> Question:</span> For each feature selection method seen in this exercise, compare and comment on the features selected.\n",
        "\n",
        "<span style=\"color: blue\"> Answer:</span> Some variables are often selected ( liek bruises_t and odor_n) but selected variables are not always the same. It certainly depends on the model and the selection method.\n"
      ]
    }
  ],
  "metadata": {
    "kernelspec": {
      "display_name": "Python 3 (ipykernel)",
      "language": "python",
      "name": "python3"
    },
    "language_info": {
      "codemirror_mode": {
        "name": "ipython",
        "version": 3
      },
      "file_extension": ".py",
      "mimetype": "text/x-python",
      "name": "python",
      "nbconvert_exporter": "python",
      "pygments_lexer": "ipython3",
      "version": "3.12.10"
    },
    "colab": {
      "provenance": []
    }
  },
  "nbformat": 4,
  "nbformat_minor": 5
}