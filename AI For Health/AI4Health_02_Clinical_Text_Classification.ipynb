{
 "cells": [
  {
   "cell_type": "markdown",
   "id": "a82f6cf5",
   "metadata": {},
   "source": [
    "# AI4Health - 02 - Clinical Text Classification"
   ]
  },
  {
   "cell_type": "markdown",
   "id": "f8c62607",
   "metadata": {},
   "source": [
    "---"
   ]
  },
  {
   "cell_type": "markdown",
   "id": "9c7056ad",
   "metadata": {},
   "source": [
    "## Introduction\n",
    "\n",
    "Clinical text data are unstructured narratives found in medical notes, discharge summaries, and patient reports. This type of text data captures the nuanced reasoning and observations of healthcare professionals. Unlike structured tabular data, clinical text contains rich contextual information that is essential for understanding patient histories, diagnoses, and treatment plans. Leveraging machine learning to classify and interpret this text can support clinicians in identifying key conditions, streamlining documentation, and improving patient care.\n",
    "\n",
    "In this notebook, you will develop a machine learning model to classify clinical notes using the **MIMIC-III dataset**. This dataset consists of de-identified clinical narratives from real hospital admissions, providing a realistic setting for exploring **natural language processing (NLP)** in healthcare. The classification task focuses on assigning diagnostic categories to free-text notes, a common challenge in automating clinical workflows.\n",
    "\n",
    "We use the MIMIC-III dataset because it is a widely recognised resource for clinical NLP research, offering diverse and authentic examples of medical documentation. Its breadth and complexity make it ideal for studying the challenges and opportunities of text-based classification in medicine.\n",
    "\n",
    "You will learn how to:\n",
    "\n",
    "- Preprocess clinical text data for machine learning\n",
    "- Apply text vectorisation techniques such as **TF-IDF**\n",
    "- Train and evaluate classifiers (e.g., **Logistic Regression**, **Naive Bayes**) on clinical text\n",
    "- Assess model performance using metrics like accuracy, precision, recall, and confusion matrices\n",
    "- Discuss the ethical and practical considerations of deploying NLP models in clinical settings\n",
    "\n",
    "By the end of this notebook, you will gain practical experience with the full workflow of clinical text classification and develop a deeper appreciation for the impact and challenges of applying NLP in healthcare.\n",
    "\n",
    "### Learning Objectives\n",
    "\n",
    "- Understand the structure of clinical free-text data\n",
    "- Learn text preprocessing and vectorisation (e.g., TF-IDF)\n",
    "- Train and evaluate a classifier on medical text\n",
    "- Interpret classification results in a clinical context\n",
    "- Reflect on the practical and ethical implications of NLP in healthcare"
   ]
  },
  {
   "cell_type": "markdown",
   "id": "97594b34",
   "metadata": {},
   "source": [
    "---"
   ]
  },
  {
   "cell_type": "markdown",
   "id": "767f1b56",
   "metadata": {},
   "source": [
    "## Additional Context\n",
    "\n",
    "### What is Clinical Text Data?\n",
    "\n",
    "Clinical text data consists of unstructured narratives written by healthcare professionals, such as progress notes, discharge summaries, and radiology reports. Unlike structured data (e.g., lab values in tables), these free-text documents capture nuanced reasoning, observations, and patient histories that are difficult to encode in fixed fields. Clinical text is rich in context but also challenging to analyse due to abbreviations, jargon, and variability in language.\n",
    "\n",
    "In healthcare, clinical text is used for:\n",
    "- **Diagnosis documentation** (e.g., describing symptoms, findings, and impressions)\n",
    "- **Care coordination** (e.g., handoff notes between providers)\n",
    "- **Quality improvement and research** (e.g., mining notes for trends or adverse events)\n",
    "\n",
    "### Why Text Classification in Medicine?\n",
    "\n",
    "Many real-world clinical tasks involve sorting or tagging text:\n",
    "- Assigning diagnostic codes to notes for billing or research\n",
    "- Flagging notes that mention critical findings (e.g., sepsis, stroke)\n",
    "- Triage and routing of patient messages or referrals\n",
    "\n",
    "Automating these tasks with machine learning can save time, reduce errors, and support clinical decision-making, but requires careful handling due to the sensitive and complex nature of medical language.\n",
    "\n",
    "### Key Concepts in Clinical NLP\n",
    "\n",
    "Clinical natural language processing (NLP) involves several foundational concepts that are essential for transforming raw clinical text into meaningful insights. Understanding these concepts helps ensure that machine learning models are both effective and reliable when applied to healthcare data.\n",
    "\n",
    "- **Preprocessing**: Cleaning and standardising text (e.g., lowercasing, removing stop words) to reduce noise and improve model performance.\n",
    "- **Vectorisation**: Converting text into numerical features (e.g., TF-IDF) so that machine learning models can process it.\n",
    "- **Class Imbalance**: Some diagnoses or findings are much rarer than others, which can bias models if not addressed.\n",
    "- **Interpretability**: Clinicians need to understand why a model made a particular prediction, especially in high-stakes settings.\n",
    "\n",
    "### Why Use TF-IDF and Logistic Regression?\n",
    "\n",
    "Selecting the right tools for text classification is crucial in clinical NLP. TF-IDF and logistic regression are commonly used because they balance interpretability and performance, making them suitable for initial experiments and baseline models in healthcare applications.\n",
    "\n",
    "- **TF-IDF**: Highlights words that are important for distinguishing between classes, down-weighting common words and up-weighting rare but informative terms.\n",
    "- **Logistic Regression**: A simple, interpretable baseline for text classification that works well with high-dimensional, sparse data like TF-IDF vectors.\n",
    "\n",
    "### Clinical and Ethical Considerations\n",
    "\n",
    "Applying NLP in clinical settings demands careful attention to privacy, fairness, transparency, and the potential impact of errors. Sensitive patient information in clinical notes must be securely handled and de-identified. Models should be rigorously evaluated to avoid amplifying biases and to ensure their outputs are interpretable and auditable, as errors can have serious consequences for patient care."
   ]
  },
  {
   "cell_type": "markdown",
   "id": "54685e29",
   "metadata": {},
   "source": [
    "---"
   ]
  },
  {
   "cell_type": "markdown",
   "id": "117db206",
   "metadata": {},
   "source": [
    "## Related Guides\n",
    "\n",
    "- *MatPlotLib - Pyplot:* https://matplotlib.org/stable/tutorials/pyplot.html\n",
    "- *Pandas - DataFrame:* https://pandas.pydata.org/docs/user_guide/dsintro.html#basics-dataframe\n",
    "- *SciKit-Learn - Confusion Matrix:* https://scikit-learn.org/stable/auto_examples/model_selection/plot_confusion_matrix.html\n",
    "- *SciKit-Learn - Cross Validation (train, test, split):* https://scikit-learn.org/stable/modules/cross_validation.html#cross-validation\n",
    "- *SciKit-Learn - Logistic Regression:* https://scikit-learn.org/stable/modules/linear_model.html#logistic-regression\n",
    "- *SciKit-Learn - Text feature extraction (TF-IDF):* https://scikit-learn.org/stable/modules/feature_extraction.html#text-feature-extraction\n",
    "- *WordCloud:* https://amueller.github.io/word_cloud/index.html"
   ]
  },
  {
   "cell_type": "markdown",
   "id": "33cdb10a",
   "metadata": {},
   "source": [
    "---"
   ]
  },
  {
   "cell_type": "markdown",
   "id": "02aee1ee",
   "metadata": {},
   "source": [
    "## Step 1: Load Required Libraries\n",
    "\n",
    "Before we begin, let's import the essential Python libraries for text analysis, visualisation, and machine learning.\n",
    "\n",
    "- **pandas**: for data manipulation and analysis\n",
    "- **matplotlib** and **seaborn**: for creating informative plots\n",
    "- **scikit-learn**: for text vectorisation, model building, and evaluation\n",
    "- **wordcloud**: for visualising the most frequent terms in each class\n",
    "\n",
    "Understanding the purpose of each library will help you preprocess, visualise, and model clinical text data effectively."
   ]
  },
  {
   "cell_type": "code",
   "execution_count": 1,
   "id": "3c421e0f",
   "metadata": {},
   "outputs": [
    {
     "name": "stdout",
     "output_type": "stream",
     "text": [
      "OK\n"
     ]
    }
   ],
   "source": [
    "import matplotlib.pyplot as plt\n",
    "import pandas as pd\n",
    "import seaborn as sns\n",
    "\n",
    "from sklearn.feature_extraction.text import TfidfVectorizer\n",
    "from sklearn.linear_model import LogisticRegression\n",
    "from sklearn.metrics import classification_report, confusion_matrix\n",
    "from sklearn.model_selection import train_test_split\n",
    "from wordcloud import WordCloud\n",
    "\n",
    "print(\"OK\")"
   ]
  },
  {
   "cell_type": "markdown",
   "id": "91a5b818",
   "metadata": {},
   "source": [
    "**Questions:**\n",
    "\n",
    "- **1.1.** Why do we need specialised libraries for text data, rather than just using standard data analysis tools?\n",
    "- **1.2.** What is the role of `TfidfVectorizer` in text classification?\n",
    "- **1.3.** How can visualisations like word clouds help in understanding clinical text data?"
   ]
  },
  {
   "cell_type": "raw",
   "id": "00099f31",
   "metadata": {},
   "source": []
  },
  {
   "cell_type": "markdown",
   "id": "16443408",
   "metadata": {},
   "source": [
    "---"
   ]
  },
  {
   "cell_type": "markdown",
   "id": "55445c3b",
   "metadata": {},
   "source": [
    "## Step 2: Load and Preview the Dataset\n",
    "\n",
    "We will now load a synthetic dataset that simulates short clinical text records. Each entry in the dataset contains a brief description of a patient's condition, along with a diagnostic label. This setup mimics real-world clinical documentation, where healthcare professionals record observations, symptoms, and diagnoses in free-text form.\n",
    "\n",
    "Previewing the dataset is a crucial first step in any data science workflow. By examining a few rows, you can get a sense of the language used, the length and structure of the notes, and the variety of diagnostic categories present. This helps you anticipate challenges such as inconsistent terminology, abbreviations, or missing information, which are common in clinical narratives.\n",
    "\n",
    "Understanding the structure and distribution of your data will guide your preprocessing decisions and model design. For example, you may notice that some classes are underrepresented, or that certain terms appear frequently in specific diagnoses. These insights will help you tailor your approach to the unique characteristics of clinical text."
   ]
  },
  {
   "cell_type": "code",
   "execution_count": null,
   "id": "ae74dba8",
   "metadata": {},
   "outputs": [],
   "source": [
    "file_path = \"./datasets/synthetic_clinical_notes.csv\"\n",
    "try:\n",
    "    df = pd.read_csv(file_path)\n",
    "except Exception as e:\n",
    "    print(\"Failed to load dataset:\", e)\n",
    "    df = pd.DataFrame()\n",
    "\n",
    "# Display the first few rows of the DataFrame\n",
    "df.head()"
   ]
  },
  {
   "cell_type": "markdown",
   "id": "c764e8db",
   "metadata": {},
   "source": [
    "**Questions:**\n",
    "\n",
    "- **2.1.** What challenges might arise when working with free-text clinical data compared to structured tabular data?\n",
    "- **2.2.** What ethical considerations should you keep in mind when handling clinical text data?"
   ]
  },
  {
   "cell_type": "raw",
   "id": "f58b1be4",
   "metadata": {},
   "source": []
  },
  {
   "cell_type": "markdown",
   "id": "fea2a716",
   "metadata": {},
   "source": [
    "---"
   ]
  },
  {
   "cell_type": "markdown",
   "id": "2f869b3c",
   "metadata": {},
   "source": [
    "## Step 3: Visualise Class Distribution\n",
    "\n",
    "Understanding how many samples belong to each class is essential before training a model. In clinical text classification, some diagnoses may be much more common than others, leading to class imbalance. This can cause a model to favor the majority class and overlook less frequent but important conditions.\n",
    "\n",
    "A quick bar plot of class counts helps you spot any imbalance and decide if you need to adjust your approach, such as by resampling or using class weights."
   ]
  },
  {
   "cell_type": "code",
   "execution_count": null,
   "id": "03bd5344",
   "metadata": {},
   "outputs": [],
   "source": [
    "# Bar plot for class distribution\n",
    "df['label'].value_counts().plot(kind='bar', title='Class Distribution')\n",
    "plt.xlabel('Class')\n",
    "plt.ylabel('Number of Samples')\n",
    "plt.grid(True)\n",
    "plt.show()"
   ]
  },
  {
   "cell_type": "markdown",
   "id": "db4404ec",
   "metadata": {},
   "source": [
    "**Questions:**\n",
    "\n",
    "- **3.1.** Why should we examine the distribution of classes before training a model?\n",
    "- **3.2.** How might class imbalance affect the performance of your classifier?\n",
    "- **3.3.** What strategies could you use to address class imbalance in text classification?"
   ]
  },
  {
   "cell_type": "raw",
   "id": "917015ed",
   "metadata": {},
   "source": []
  },
  {
   "cell_type": "markdown",
   "id": "cdb61265",
   "metadata": {},
   "source": [
    "---"
   ]
  },
  {
   "cell_type": "markdown",
   "id": "94c258fd",
   "metadata": {},
   "source": [
    "## Step 4: Word Clouds per Class\n",
    "\n",
    "Visualising word frequencies for each class helps you understand which terms are most associated with each diagnostic category. Word clouds provide a quick, intuitive way to see the most common words in the clinical notes for each class.\n",
    "\n",
    "By comparing word clouds, you can identify distinctive terms that may help the model differentiate between diagnoses. This step also helps you spot potential issues, such as common words that appear across all classes or irrelevant terms that might need to be removed during preprocessing.\n",
    "\n",
    "- *WordCloud:* https://amueller.github.io/word_cloud/generated/wordcloud.WordCloud.html"
   ]
  },
  {
   "cell_type": "code",
   "execution_count": null,
   "id": "b29eb95f",
   "metadata": {},
   "outputs": [],
   "source": [
    "# Generate word cloud for each class\n",
    "for cls in df['label'].unique():\n",
    "    text = ' '.join(df[df['label'] == cls]['text'])\n",
    "    wc = WordCloud(width=600, height=400, background_color='white').generate(text)\n",
    "    plt.figure()\n",
    "    plt.imshow(wc, interpolation='bilinear')\n",
    "    plt.axis('off')\n",
    "    plt.title(f'Word Cloud for {cls}')\n",
    "    plt.show()"
   ]
  },
  {
   "cell_type": "markdown",
   "id": "32f3bcd9",
   "metadata": {},
   "source": [
    "**Questions:**\n",
    "\n",
    "- **4.1.** How can word clouds help you understand the key terms associated with each class?\n",
    "- **4.2.** What are the limitations of using word clouds for clinical text analysis?\n",
    "- **4.3.** How might the most frequent words differ between classes, and why is this useful for classification?\n",
    "- **4.4.** What additional text visualisations could provide deeper insights into your data?"
   ]
  },
  {
   "cell_type": "raw",
   "id": "0cd4f0cc",
   "metadata": {},
   "source": []
  },
  {
   "cell_type": "markdown",
   "id": "0c2594fc",
   "metadata": {},
   "source": [
    "---"
   ]
  },
  {
   "cell_type": "markdown",
   "id": "f8ff22bf",
   "metadata": {},
   "source": [
    "## Step 5: Text Preprocessing and Vectorisation\n",
    "\n",
    "To use clinical text in machine learning models, we need to convert it into numerical features. TF-IDF (Term Frequency–Inverse Document Frequency) is a common technique that transforms text into vectors, highlighting words that are important for distinguishing between classes.\n",
    "\n",
    "Preprocessing steps like removing stop words or limiting the number of features can help focus the model on the most relevant terms and reduce noise. This process prepares the clinical notes for effective model training and\n",
    "\n",
    "- *SciKit-Learn - TfidfVectorizer:* https://scikit-learn.org/stable/modules/generated/sklearn.feature_extraction.text.TfidfVectorizer.html\n",
    "- *SciKit-Learn - train_test_split:* https://scikit-learn.org/stable/modules/generated/sklearn.model_selection.train_test_split.html"
   ]
  },
  {
   "cell_type": "code",
   "execution_count": null,
   "id": "43b0cc96",
   "metadata": {},
   "outputs": [],
   "source": [
    "# Split data\n",
    "X_train, X_test, y_train, y_test = train_test_split(df['text'], df['label'], test_size=0.2, random_state=42)\n",
    "\n",
    "# TF-IDF Vectorisation\n",
    "vectoriser = TfidfVectorizer(stop_words='english', max_features=1000)\n",
    "X_train_tfidf = vectoriser.fit_transform(X_train)\n",
    "X_test_tfidf = vectoriser.transform(X_test)\n",
    "\n",
    "print(\"OK\")"
   ]
  },
  {
   "cell_type": "markdown",
   "id": "06a21a8d",
   "metadata": {},
   "source": [
    "**Questions:**\n",
    "\n",
    "- **5.1.** Why do we need to convert text into numerical features for machine learning?\n",
    "- **5.2.** What does TF-IDF capture about the importance of words in clinical notes?\n",
    "- **5.3.** How might preprocessing choices (like removing stop words or limiting features) impact model performance?\n",
    "- **5.4.** What are some challenges unique to preprocessing clinical text compared to general text?"
   ]
  },
  {
   "cell_type": "raw",
   "id": "57cb4bf0",
   "metadata": {},
   "source": []
  },
  {
   "cell_type": "markdown",
   "id": "505a5888",
   "metadata": {},
   "source": [
    "---"
   ]
  },
  {
   "cell_type": "markdown",
   "id": "0a04501a",
   "metadata": {},
   "source": [
    "## Step 6: Train a Classifier\n",
    "\n",
    "Now we will train a simple Logistic Regression model on the vectorised clinical text. Logistic Regression is a popular starting point for text classification because it is efficient, interpretable, and often performs well on high-dimensional data like text.\n",
    "\n",
    "Training the model allows us to learn patterns in the clinical notes that are associated with each diagnostic class.\n",
    "\n",
    "- *SciKit-Learn - LogisticRegression:* https://scikit-learn.org/stable/modules/generated/sklearn.linear_model.LogisticRegression.html"
   ]
  },
  {
   "cell_type": "code",
   "execution_count": null,
   "id": "3952b5bf",
   "metadata": {},
   "outputs": [],
   "source": [
    "# Train the classifier\n",
    "clf = LogisticRegression(max_iter=500)\n",
    "clf.fit(X_train_tfidf, y_train)\n",
    "\n",
    "print(\"OK\")"
   ]
  },
  {
   "cell_type": "markdown",
   "id": "7d5d4d5b",
   "metadata": {},
   "source": [
    "**Questions:**\n",
    "\n",
    "- **6.1.** Why is logistic regression a good starting point for text classification?\n",
    "- **6.2.** What are the advantages and limitations of using logistic regression for multi-class clinical text data?\n",
    "- **6.3.** How can you interpret the model’s coefficients in the context of clinical terms?\n",
    "- **6.4.** What other classifiers might be suitable for this task, and why?"
   ]
  },
  {
   "cell_type": "raw",
   "id": "e8440548",
   "metadata": {},
   "source": []
  },
  {
   "cell_type": "markdown",
   "id": "c46dc1da",
   "metadata": {},
   "source": [
    "---"
   ]
  },
  {
   "cell_type": "markdown",
   "id": "2333ab9b",
   "metadata": {},
   "source": [
    "## Step 7: Evaluate Model Performance\n",
    "\n",
    "After training the model, it is important to assess how well it performs on unseen data. We use a confusion matrix and classification report to evaluate accuracy and per-class performance. This helps identify which classes are predicted well and where the model may be making mistakes, which is crucial information in clinical applications where misclassification can have serious consequences.\n",
    "\n",
    "- *SciKit-Learn - confusion_matrix:* https://scikit-learn.org/stable/modules/generated/sklearn.metrics.confusion_matrix.html\n",
    "- *Seaborn - heatmap:* https://seaborn.pydata.org/generated/seaborn.heatmap.html"
   ]
  },
  {
   "cell_type": "code",
   "execution_count": null,
   "id": "86b69d57",
   "metadata": {},
   "outputs": [],
   "source": [
    "# Predictions and confusion matrix\n",
    "y_pred = clf.predict(X_test_tfidf)\n",
    "cm = confusion_matrix(y_test, y_pred, labels=clf.classes_)\n",
    "\n",
    "# Display confusion matrix\n",
    "plt.figure(figsize=(6, 4))\n",
    "sns.heatmap(cm, annot=True, fmt='d', xticklabels=clf.classes_, yticklabels=clf.classes_, cmap='Blues')\n",
    "plt.xlabel('Predicted')\n",
    "plt.ylabel('True')\n",
    "plt.title('Confusion Matrix')\n",
    "plt.show()\n",
    "\n",
    "# Classification report\n",
    "print(classification_report(y_test, y_pred))"
   ]
  },
  {
   "cell_type": "markdown",
   "id": "24633334",
   "metadata": {},
   "source": [
    "**Questions:**\n",
    "\n",
    "- **7.1.** What does the confusion matrix tell you about your model’s strengths and weaknesses?\n",
    "- **7.2.** Why is it important to look at per-class performance, especially in a clinical context?\n",
    "- **7.3.** What are the potential consequences of misclassifying one clinical class as another?\n",
    "- **7.4.** How could you improve your model if you notice poor performance on a particular class?"
   ]
  },
  {
   "cell_type": "raw",
   "id": "220ea2bc",
   "metadata": {},
   "source": []
  },
  {
   "cell_type": "markdown",
   "id": "78785814",
   "metadata": {},
   "source": [
    "---"
   ]
  },
  {
   "cell_type": "markdown",
   "id": "abb917aa",
   "metadata": {},
   "source": [
    "## Step 8: Summary and Reflection\n",
    "\n",
    "In this notebook, you completed the full workflow of clinical text classification, from exploring and visualising synthetic clinical notes to preprocessing, vectorising, and modelling the data. You learned how to transform unstructured clinical narratives into numerical features using TF-IDF, enabling machine learning algorithms to identify patterns relevant to diagnostic categories.\n",
    "\n",
    "By training and evaluating a logistic regression classifier, you saw the importance of both technical steps and careful assessment of model performance, especially in a clinical context where misclassifications can have serious consequences. Throughout, you also considered challenges unique to healthcare data, such as class imbalance, interpretability, and the ethical handling of sensitive patient information.\n",
    "\n",
    "While this task was simplified, it mirrors many real-world applications of NLP in medicine — such as triage, diagnostic support, and decision augmentation.\n",
    "\n",
    "### Summary\n",
    "\n",
    "- Preprocessing and vectorisation are key to making text usable for machine learning.\n",
    "- Word clouds help explore feature importance visually.\n",
    "- Classification models must be carefully evaluated for clinical safety.\n",
    "\n",
    "### What's next?\n",
    "\n",
    "- **8.1** What real clinical tasks could benefit from NLP like this?\n",
    "- **8.2** How would you gather and anonymise real-world clinical notes ethically?\n",
    "- **8.3** What kinds of mistakes would be unacceptable in this application?\n",
    "- **8.4** How could model outputs be made interpretable for clinicians?"
   ]
  },
  {
   "cell_type": "raw",
   "id": "cca66ca6",
   "metadata": {},
   "source": []
  },
  {
   "cell_type": "markdown",
   "id": "ab754908",
   "metadata": {},
   "source": [
    "---"
   ]
  },
  {
   "cell_type": "markdown",
   "id": "d5155617",
   "metadata": {},
   "source": [
    "## Explore Further\n",
    "\n",
    "### Articles\n",
    "\n",
    "- **Opportunities and Obstacles for Deep Learning in Biology and Medicine**\n",
    "<br>*Journal of the Royal Society*\n",
    "  - https://pubmed.ncbi.nlm.nih.gov/29618526/\n",
    "\n",
    "- **Natural Language Processing of Clinical Notes on Chronic Diseases: Systematic Review**\n",
    "<br>*JMIR Med Inform*\n",
    "  - https://medinform.jmir.org/2019/2/e12239/\n",
    "\n",
    "- **Clinical Text Data in Machine Learning: Systematic Review**\n",
    "<br>*JMIR Med Inform*\n",
    "  - https://medinform.jmir.org/2020/3/e17984\n",
    "\n",
    "- **Ethical and legal challenges of artificial intelligence-driven healthcare**\n",
    "<br>*Journal of Responsible Technology*\n",
    "  - https://www.sciencedirect.com/science/article/pii/B9780128184387000125\n",
    "\n",
    "- **MIMIC-III, a freely accessible critical care database**\n",
    "<br>*Scientific Data*\n",
    "  - https://www.nature.com/articles/sdata201635"
   ]
  },
  {
   "cell_type": "markdown",
   "id": "e84f159a",
   "metadata": {},
   "source": []
  }
 ],
 "metadata": {
  "kernelspec": {
   "display_name": "Python 3 (ipykernel)",
   "language": "python",
   "name": "python3"
  },
  "language_info": {
   "codemirror_mode": {
    "name": "ipython",
    "version": 3
   },
   "file_extension": ".py",
   "mimetype": "text/x-python",
   "name": "python",
   "nbconvert_exporter": "python",
   "pygments_lexer": "ipython3",
   "version": "3.11.11"
  }
 },
 "nbformat": 4,
 "nbformat_minor": 5
}
